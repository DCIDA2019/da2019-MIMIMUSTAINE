{
 "cells": [
  {
   "cell_type": "code",
   "execution_count": 3,
   "metadata": {},
   "outputs": [
    {
     "data": {
      "image/png": "[encoded data removed]",
      "text/plain": [
       "<Figure size 432x288 with 1 Axes>"
      ]
     },
     "metadata": {
      "needs_background": "light"
     },
     "output_type": "display_data"
    },
    {
     "name": "stdout",
     "output_type": "stream",
     "text": [
      "[   0    2   20   90  272  650 1332 2450 4160 6642]\n",
      "[   0    2   20   90  272  650 1332 2450 4160 6642]\n"
     ]
    },
    {
     "data": {
      "text/plain": [
       "array([ True,  True,  True,  True,  True,  True,  True,  True,  True,\n",
       "        True])"
      ]
     },
     "execution_count": 3,
     "metadata": {},
     "output_type": "execute_result"
    }
   ],
   "source": [
    "import numpy as np\n",
    "import matplotlib.pyplot as plt\n",
    "from Funciones import f2 as f2s\n",
    "##%matplotlib inline\n",
    "##pylab inline\n",
    "\n",
    "x = np.arange(0,10,1)\n",
    "y = x**2\n",
    "\n",
    "plt.plot(x,y,label = '$x^{2}$')\n",
    "plt.legend()\n",
    "plt.show()\n",
    "\n",
    "##Definición de funciones\n",
    "f1 = lambda x,y: x**2 + y**2\n",
    "z = f1(x,y)\n",
    "print(z)\n",
    "\n",
    "##Definición de funciones 2\n",
    "def f2(x,y):\n",
    "    def cuadrado(a):\n",
    "        return a * a\n",
    "    tmp = cuadrado(x) + cuadrado(y)\n",
    "    return x,y,tmp\n",
    "x2,y2,z2 = f2(x,y)\n",
    "print(z2)\n",
    "##z == z2\n",
    "##z == z2[2]\n",
    "\n",
    "x3,y3,z3 = f2s(x,y)\n",
    "z3 == z2"
   ]
  },
  {
   "cell_type": "code",
   "execution_count": null,
   "metadata": {},
   "outputs": [],
   "source": []
  },
  {
   "cell_type": "code",
   "execution_count": null,
   "metadata": {},
   "outputs": [],
   "source": []
  },
  {
   "cell_type": "code",
   "execution_count": null,
   "metadata": {},
   "outputs": [],
   "source": []
  },
  {
   "cell_type": "code",
   "execution_count": null,
   "metadata": {},
   "outputs": [],
   "source": []
  },
  {
   "cell_type": "code",
   "execution_count": null,
   "metadata": {},
   "outputs": [],
   "source": []
  }
 ],
 "metadata": {
  "kernelspec": {
   "display_name": "Python 3",
   "language": "python",
   "name": "python3"
  },
  "language_info": {
   "codemirror_mode": {
    "name": "ipython",
    "version": 3
   },
   "file_extension": ".py",
   "mimetype": "text/x-python",
   "name": "python",
   "nbconvert_exporter": "python",
   "pygments_lexer": "ipython3",
   "version": "3.7.3"
  }
 },
 "nbformat": 4,
 "nbformat_minor": 4
}
