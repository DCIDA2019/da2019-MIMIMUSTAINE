{
 "cells": [
  {
   "cell_type": "code",
   "execution_count": 1,
   "metadata": {},
   "outputs": [],
   "source": [
    "import os\n",
    "import numpy as np\n",
    "import pandas as pd\n",
    "import matplotlib.pyplot as plt"
   ]
  },
  {
   "cell_type": "code",
   "execution_count": 5,
   "metadata": {},
   "outputs": [],
   "source": [
    "path = '/home/mimimustaine/Downloads/Análisis_de_datos/da2019-MIMIMUSTAINE/Semana2/Tarea/'\n",
    "Lluvias_2018 = pd.read_csv(path + '201801010000Lluv.csv', encoding = 'latin-1')\n",
    "Lluvias_2019 = pd.read_csv(path + '201901010000Lluv.csv', encoding = 'latin-1')"
   ]
  },
  {
   "cell_type": "code",
   "execution_count": 7,
   "metadata": {},
   "outputs": [
    {
     "name": "stdout",
     "output_type": "stream",
     "text": [
      "Index(['LON', 'LAT', 'EDO', 'CLAVE_SIH', 'NOMBRE', 'ENE'], dtype='object')\n",
      "Index(['LON', 'LAT', 'ESTADO', 'CLAVE_SIH', 'NOMBRE', 'ENE'], dtype='object')\n"
     ]
    }
   ],
   "source": [
    "print(Lluvias_2019.keys())\n",
    "print(Lluvias_2018.keys())"
   ]
  },
  {
   "cell_type": "code",
   "execution_count": 9,
   "metadata": {},
   "outputs": [
    {
     "data": {
      "text/plain": [
       "Index(['LON', 'LAT', 'EDO', 'CLAVE_SIH', 'NOMBRE', 'ENE'], dtype='object')"
      ]
     },
     "execution_count": 9,
     "metadata": {},
     "output_type": "execute_result"
    }
   ],
   "source": [
    "#Para cambiar el nombre y que corresponda:\n",
    "Lluvias_2018 = Lluvias_2018.rename(columns = {\"ESTADO\" : \"EDO\"})\n",
    "Lluvias_2018.keys()"
   ]
  },
  {
   "cell_type": "code",
   "execution_count": 12,
   "metadata": {},
   "outputs": [
    {
     "name": "stdout",
     "output_type": "stream",
     "text": [
      "['AGS' 'BC' 'BCS' 'CAMP' 'CHIH' 'CHIS' 'COAH' 'COL' 'DF' 'DGO' 'GRO' 'GTO'\n",
      " 'HGO' 'JAL' 'MEX' 'MICH' 'MOR' 'NAY' 'NL' 'OAX' 'PUE' 'QRO' 'QROO' 'SIN'\n",
      " 'SLP' 'SON' 'TAB' 'TAMS' 'TLAX' 'VER' 'YUC' 'ZAC']\n",
      "--------------------\n",
      "['AGS' 'BC' 'BCS' 'CAMP' 'CHIH' 'CHIS' 'COAH' 'COL' 'DF' 'DGO' 'GRO' 'GTO'\n",
      " 'HGO' 'JAL' 'MEX' 'MICH' 'MOR' 'NAY' 'NL' 'OAX' 'PUE' 'QRO' 'QROO' 'SIN'\n",
      " 'SLP' 'SON' 'TAB' 'TAMS' 'TLAX' 'VER' 'YUC' 'ZAC']\n",
      "--------------------\n",
      "[ True  True  True  True  True  True  True  True  True  True  True  True\n",
      "  True  True  True  True  True  True  True  True  True  True  True  True\n",
      "  True  True  True  True  True  True  True  True]\n"
     ]
    }
   ],
   "source": [
    "Edos_2019 = np.unique(Lluvias_2019['EDO'])\n",
    "Edos_2018 = np.unique(Lluvias_2018['EDO'])\n",
    "\n",
    "print(Edos_2019)\n",
    "print('--------------------')\n",
    "print(Edos_2018)\n",
    "print('--------------------')\n",
    "#¿Los arreglos tienen los mismos estados? Con 'np.in1d()'.\n",
    "print(np.in1d(Edos_2019, Edos_2018))"
   ]
  },
  {
   "cell_type": "code",
   "execution_count": 30,
   "metadata": {},
   "outputs": [
    {
     "data": {
      "text/plain": [
       "[11.83217391304348,\n",
       " 25.49,\n",
       " 11.754999999999999,\n",
       " 22.060526315789474,\n",
       " 18.677727272727267,\n",
       " 40.742957746478886,\n",
       " 5.731481481481483,\n",
       " 2.336315789473684,\n",
       " 5.908970588235294,\n",
       " 5.645882352941176,\n",
       " 1.172340425531915,\n",
       " 2.735454545454546,\n",
       " 13.343809523809522,\n",
       " 8.719272727272726,\n",
       " 4.6706666666666665,\n",
       " 7.173333333333332,\n",
       " 0.42911111111111117,\n",
       " 0.5825,\n",
       " 26.570857142857143,\n",
       " 28.508750000000003,\n",
       " 12.75016129032258,\n",
       " 2.085714285714286,\n",
       " 101.29714285714284,\n",
       " 8.102978723404256,\n",
       " 29.77318181818182,\n",
       " 19.13021739130435,\n",
       " 132.25318181818182,\n",
       " 29.56677419354839,\n",
       " 0.565,\n",
       " 46.25061224489798,\n",
       " 35.9608,\n",
       " 12.004883720930234]"
      ]
     },
     "execution_count": 30,
     "metadata": {},
     "output_type": "execute_result"
    }
   ],
   "source": [
    "mean2019_edo = []\n",
    "mean2018_edo = []\n",
    "\n",
    "for edo in Edos_2019:\n",
    "    comparador_1 = Lluvias_2019['EDO'] == edo\n",
    "    comparador_2 = Lluvias_2018['EDO'] == edo\n",
    "    mean2019_edo.append(Lluvias_2019[comparador_1]['ENE'].mean())\n",
    "    mean2018_edo.append(Lluvias_2018[comparador_2]['ENE'].mean())\n",
    "\n",
    "#Muestra del resultado:\n",
    "mean2019_edo"
   ]
  },
  {
   "cell_type": "code",
   "execution_count": 31,
   "metadata": {},
   "outputs": [
    {
     "data": {
      "text/html": [
       "<div>\n",
       "<style scoped>\n",
       "    .dataframe tbody tr th:only-of-type {\n",
       "        vertical-align: middle;\n",
       "    }\n",
       "\n",
       "    .dataframe tbody tr th {\n",
       "        vertical-align: top;\n",
       "    }\n",
       "\n",
       "    .dataframe thead th {\n",
       "        text-align: right;\n",
       "    }\n",
       "</style>\n",
       "<table border=\"1\" class=\"dataframe\">\n",
       "  <thead>\n",
       "    <tr style=\"text-align: right;\">\n",
       "      <th></th>\n",
       "      <th>Estado</th>\n",
       "      <th>Media</th>\n",
       "    </tr>\n",
       "  </thead>\n",
       "  <tbody>\n",
       "    <tr>\n",
       "      <th>0</th>\n",
       "      <td>AGS</td>\n",
       "      <td>11.832174</td>\n",
       "    </tr>\n",
       "    <tr>\n",
       "      <th>1</th>\n",
       "      <td>BC</td>\n",
       "      <td>25.490000</td>\n",
       "    </tr>\n",
       "    <tr>\n",
       "      <th>2</th>\n",
       "      <td>BCS</td>\n",
       "      <td>11.755000</td>\n",
       "    </tr>\n",
       "    <tr>\n",
       "      <th>3</th>\n",
       "      <td>CAMP</td>\n",
       "      <td>22.060526</td>\n",
       "    </tr>\n",
       "    <tr>\n",
       "      <th>4</th>\n",
       "      <td>CHIH</td>\n",
       "      <td>18.677727</td>\n",
       "    </tr>\n",
       "  </tbody>\n",
       "</table>\n",
       "</div>"
      ],
      "text/plain": [
       "  Estado      Media\n",
       "0    AGS  11.832174\n",
       "1     BC  25.490000\n",
       "2    BCS  11.755000\n",
       "3   CAMP  22.060526\n",
       "4   CHIH  18.677727"
      ]
     },
     "execution_count": 31,
     "metadata": {},
     "output_type": "execute_result"
    }
   ],
   "source": [
    "mean2019_edo = np.asarray(mean2019_edo)\n",
    "mean2018_edo = np.asarray(mean2018_edo)\n",
    "\n",
    "PE = pd.DataFrame({'Estado' : Edos_2019, 'Media' : mean2019_edo})\n",
    "PE.head()"
   ]
  },
  {
   "cell_type": "code",
   "execution_count": 28,
   "metadata": {},
   "outputs": [
    {
     "data": {
      "text/plain": [
       "0.42911111111111117"
      ]
     },
     "execution_count": 28,
     "metadata": {},
     "output_type": "execute_result"
    }
   ],
   "source": [
    "PE['Media'].min()"
   ]
  },
  {
   "cell_type": "code",
   "execution_count": 34,
   "metadata": {},
   "outputs": [
    {
     "data": {
      "text/plain": [
       "132.25318181818182"
      ]
     },
     "execution_count": 34,
     "metadata": {},
     "output_type": "execute_result"
    }
   ],
   "source": [
    "PE['Media'].max()"
   ]
  },
  {
   "cell_type": "code",
   "execution_count": 33,
   "metadata": {},
   "outputs": [
    {
     "name": "stdout",
     "output_type": "stream",
     "text": [
      "2019: estado con menor precipitación promedio:  MOR 0.42911111111111117\n",
      "2019: estado con menor precipitación promedio:  TAB 132.25318181818182\n"
     ]
    }
   ],
   "source": [
    "ind_min = np.where(mean2019_edo == min(mean2019_edo))\n",
    "ind_max = np.where(mean2019_edo == max(mean2019_edo))\n",
    "\n",
    "print(\"2019: estado con menor precipitación promedio: \", Edos_2019[ind_min[0]][0], min(mean2019_edo))\n",
    "print(\"2019: estado con menor precipitación promedio: \", Edos_2019[ind_max[0]][0], max(mean2019_edo))"
   ]
  },
  {
   "cell_type": "code",
   "execution_count": null,
   "metadata": {},
   "outputs": [],
   "source": []
  }
 ],
 "metadata": {
  "kernelspec": {
   "display_name": "Python 3",
   "language": "python",
   "name": "python3"
  },
  "language_info": {
   "codemirror_mode": {
    "name": "ipython",
    "version": 3
   },
   "file_extension": ".py",
   "mimetype": "text/x-python",
   "name": "python",
   "nbconvert_exporter": "python",
   "pygments_lexer": "ipython3",
   "version": "3.6.5"
  }
 },
 "nbformat": 4,
 "nbformat_minor": 2
}
