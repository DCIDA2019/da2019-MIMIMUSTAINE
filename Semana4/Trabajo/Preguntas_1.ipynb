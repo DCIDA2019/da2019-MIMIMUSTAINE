{
 "cells": [
  {
   "cell_type": "code",
   "execution_count": 1,
   "metadata": {},
   "outputs": [],
   "source": [
    "import matplotlib as mpl\n",
    "import matplotlib.pyplot as plt\n",
    "import numpy as np\n",
    "import pandas as pd\n",
    "import requests\n",
    "import os\n",
    "\n",
    "plt.style.use('seaborn-whitegrid')"
   ]
  },
  {
   "cell_type": "code",
   "execution_count": 2,
   "metadata": {},
   "outputs": [
    {
     "data": {
      "text/html": [
       "<div>\n",
       "<style scoped>\n",
       "    .dataframe tbody tr th:only-of-type {\n",
       "        vertical-align: middle;\n",
       "    }\n",
       "\n",
       "    .dataframe tbody tr th {\n",
       "        vertical-align: top;\n",
       "    }\n",
       "\n",
       "    .dataframe thead th {\n",
       "        text-align: right;\n",
       "    }\n",
       "</style>\n",
       "<table border=\"1\" class=\"dataframe\">\n",
       "  <thead>\n",
       "    <tr style=\"text-align: right;\">\n",
       "      <th></th>\n",
       "      <th>NIVEL</th>\n",
       "      <th>TIPO</th>\n",
       "      <th>PUESTO</th>\n",
       "      <th>SUELDO BASE</th>\n",
       "      <th>CUOTAS SEGURIDAD SOCIAL</th>\n",
       "      <th>PREVISIÓN SOCIAL</th>\n",
       "      <th>AYUDA X SERVICIOS</th>\n",
       "      <th>APOYO FAMILIAR</th>\n",
       "      <th>GRATIFICACIÓN QUINCENAL</th>\n",
       "      <th>SUELDO MENSUAL BRUTO</th>\n",
       "      <th>IMPTO MENSUAL</th>\n",
       "      <th>ISSEG</th>\n",
       "      <th>ISSSTE</th>\n",
       "      <th>SUELDO MENSUAL NETO</th>\n",
       "      <th>PRIMA VACACIONAL</th>\n",
       "      <th>AGUINALDO</th>\n",
       "    </tr>\n",
       "  </thead>\n",
       "  <tbody>\n",
       "    <tr>\n",
       "      <th>0</th>\n",
       "      <td>22</td>\n",
       "      <td>NaN</td>\n",
       "      <td>GOBERNADOR/A DEL ESTADO</td>\n",
       "      <td>59804.327930</td>\n",
       "      <td>5843.07</td>\n",
       "      <td>1913.1</td>\n",
       "      <td>25897</td>\n",
       "      <td>64294.837780</td>\n",
       "      <td>75373.99</td>\n",
       "      <td>233126.325711</td>\n",
       "      <td>69584.321342</td>\n",
       "      <td>5082.66</td>\n",
       "      <td>760.41</td>\n",
       "      <td>157698.934369</td>\n",
       "      <td>10 Días por Año</td>\n",
       "      <td>45 Días por Año</td>\n",
       "    </tr>\n",
       "    <tr>\n",
       "      <th>1</th>\n",
       "      <td>20</td>\n",
       "      <td>NaN</td>\n",
       "      <td>SECRETARIO/A DE ESTADO A</td>\n",
       "      <td>49025.945517</td>\n",
       "      <td>5843.07</td>\n",
       "      <td>1913.1</td>\n",
       "      <td>22783</td>\n",
       "      <td>48858.839699</td>\n",
       "      <td>67187.62</td>\n",
       "      <td>195611.575216</td>\n",
       "      <td>56829.306173</td>\n",
       "      <td>5082.66</td>\n",
       "      <td>760.41</td>\n",
       "      <td>132939.199042</td>\n",
       "      <td>10 Días por Año</td>\n",
       "      <td>45 Días por Año</td>\n",
       "    </tr>\n",
       "    <tr>\n",
       "      <th>2</th>\n",
       "      <td>19</td>\n",
       "      <td>NaN</td>\n",
       "      <td>DIRECTOR/A GENERAL PARAESTATAL A</td>\n",
       "      <td>40685.951590</td>\n",
       "      <td>5843.07</td>\n",
       "      <td>1913.1</td>\n",
       "      <td>18805</td>\n",
       "      <td>41397.705456</td>\n",
       "      <td>49230.82</td>\n",
       "      <td>157875.647046</td>\n",
       "      <td>43999.090596</td>\n",
       "      <td>5082.66</td>\n",
       "      <td>760.41</td>\n",
       "      <td>108033.486450</td>\n",
       "      <td>10 Días por Año</td>\n",
       "      <td>45 Días por Año</td>\n",
       "    </tr>\n",
       "    <tr>\n",
       "      <th>3</th>\n",
       "      <td>19</td>\n",
       "      <td>NaN</td>\n",
       "      <td>SECRETARIO/A DE ESTADO B</td>\n",
       "      <td>40685.951590</td>\n",
       "      <td>5843.07</td>\n",
       "      <td>1913.1</td>\n",
       "      <td>18805</td>\n",
       "      <td>41397.705456</td>\n",
       "      <td>49230.82</td>\n",
       "      <td>157875.647046</td>\n",
       "      <td>43999.090596</td>\n",
       "      <td>5082.66</td>\n",
       "      <td>760.41</td>\n",
       "      <td>108033.486450</td>\n",
       "      <td>10 Días por Año</td>\n",
       "      <td>45 Días por Año</td>\n",
       "    </tr>\n",
       "    <tr>\n",
       "      <th>4</th>\n",
       "      <td>18</td>\n",
       "      <td>NaN</td>\n",
       "      <td>SECRETARIO/A DE ESTADO C</td>\n",
       "      <td>37083.708634</td>\n",
       "      <td>5843.07</td>\n",
       "      <td>1913.1</td>\n",
       "      <td>16756</td>\n",
       "      <td>35924.238404</td>\n",
       "      <td>42651.90</td>\n",
       "      <td>140172.017038</td>\n",
       "      <td>37979.856393</td>\n",
       "      <td>5082.66</td>\n",
       "      <td>760.41</td>\n",
       "      <td>96349.090645</td>\n",
       "      <td>10 Días por Año</td>\n",
       "      <td>45 Días por Año</td>\n",
       "    </tr>\n",
       "  </tbody>\n",
       "</table>\n",
       "</div>"
      ],
      "text/plain": [
       "   NIVEL TIPO                            PUESTO   SUELDO BASE  \\\n",
       "0     22  NaN           GOBERNADOR/A DEL ESTADO  59804.327930   \n",
       "1     20  NaN          SECRETARIO/A DE ESTADO A  49025.945517   \n",
       "2     19  NaN  DIRECTOR/A GENERAL PARAESTATAL A  40685.951590   \n",
       "3     19  NaN          SECRETARIO/A DE ESTADO B  40685.951590   \n",
       "4     18  NaN          SECRETARIO/A DE ESTADO C  37083.708634   \n",
       "\n",
       "   CUOTAS SEGURIDAD SOCIAL  PREVISIÓN SOCIAL  AYUDA X SERVICIOS  \\\n",
       "0                  5843.07            1913.1              25897   \n",
       "1                  5843.07            1913.1              22783   \n",
       "2                  5843.07            1913.1              18805   \n",
       "3                  5843.07            1913.1              18805   \n",
       "4                  5843.07            1913.1              16756   \n",
       "\n",
       "   APOYO FAMILIAR  GRATIFICACIÓN QUINCENAL  SUELDO MENSUAL BRUTO  \\\n",
       "0    64294.837780                 75373.99         233126.325711   \n",
       "1    48858.839699                 67187.62         195611.575216   \n",
       "2    41397.705456                 49230.82         157875.647046   \n",
       "3    41397.705456                 49230.82         157875.647046   \n",
       "4    35924.238404                 42651.90         140172.017038   \n",
       "\n",
       "   IMPTO MENSUAL    ISSEG  ISSSTE  SUELDO MENSUAL NETO PRIMA VACACIONAL  \\\n",
       "0   69584.321342  5082.66  760.41        157698.934369  10 Días por Año   \n",
       "1   56829.306173  5082.66  760.41        132939.199042  10 Días por Año   \n",
       "2   43999.090596  5082.66  760.41        108033.486450  10 Días por Año   \n",
       "3   43999.090596  5082.66  760.41        108033.486450  10 Días por Año   \n",
       "4   37979.856393  5082.66  760.41         96349.090645  10 Días por Año   \n",
       "\n",
       "         AGUINALDO  \n",
       "0  45 Días por Año  \n",
       "1  45 Días por Año  \n",
       "2  45 Días por Año  \n",
       "3  45 Días por Año  \n",
       "4  45 Días por Año  "
      ]
     },
     "execution_count": 2,
     "metadata": {},
     "output_type": "execute_result"
    }
   ],
   "source": [
    "sueldos = pd.read_excel('tabulador_pe2019.xls', header = 9)\n",
    "sueldos.head()"
   ]
  },
  {
   "cell_type": "markdown",
   "metadata": {},
   "source": [
    "#### <strong>¿Cuál es promedio de las contribuciones del sueldo de un trabajador en esta dependencia? </strong> "
   ]
  },
  {
   "cell_type": "code",
   "execution_count": 3,
   "metadata": {},
   "outputs": [
    {
     "data": {
      "text/plain": [
       "49467.37593510606"
      ]
     },
     "execution_count": 3,
     "metadata": {},
     "output_type": "execute_result"
    }
   ],
   "source": [
    "sueldos['SUELDO MENSUAL BRUTO'].mean()"
   ]
  },
  {
   "cell_type": "code",
   "execution_count": 4,
   "metadata": {},
   "outputs": [
    {
     "data": {
      "text/plain": [
       "35829.35357437967"
      ]
     },
     "execution_count": 4,
     "metadata": {},
     "output_type": "execute_result"
    }
   ],
   "source": [
    "sueldos['SUELDO MENSUAL NETO'].mean()"
   ]
  },
  {
   "cell_type": "markdown",
   "metadata": {},
   "source": [
    "#### <strong>Media y moda de las contribuciones del sueldo de un trabajador. Rango interquartil de la distribución.</strong> "
   ]
  },
  {
   "cell_type": "code",
   "execution_count": 5,
   "metadata": {},
   "outputs": [
    {
     "data": {
      "text/plain": [
       "0     9783.850296\n",
       "1    11440.563407\n",
       "dtype: float64"
      ]
     },
     "execution_count": 5,
     "metadata": {},
     "output_type": "execute_result"
    }
   ],
   "source": [
    "sueldos['SUELDO MENSUAL BRUTO'].mode()"
   ]
  },
  {
   "cell_type": "code",
   "execution_count": 6,
   "metadata": {},
   "outputs": [
    {
     "data": {
      "text/plain": [
       "0    8294.835952\n",
       "1    9609.786902\n",
       "dtype: float64"
      ]
     },
     "execution_count": 6,
     "metadata": {},
     "output_type": "execute_result"
    }
   ],
   "source": [
    "sueldos['SUELDO MENSUAL NETO'].mode()"
   ]
  },
  {
   "cell_type": "code",
   "execution_count": 7,
   "metadata": {},
   "outputs": [
    {
     "data": {
      "text/html": [
       "<div>\n",
       "<style scoped>\n",
       "    .dataframe tbody tr th:only-of-type {\n",
       "        vertical-align: middle;\n",
       "    }\n",
       "\n",
       "    .dataframe tbody tr th {\n",
       "        vertical-align: top;\n",
       "    }\n",
       "\n",
       "    .dataframe thead th {\n",
       "        text-align: right;\n",
       "    }\n",
       "</style>\n",
       "<table border=\"1\" class=\"dataframe\">\n",
       "  <thead>\n",
       "    <tr style=\"text-align: right;\">\n",
       "      <th></th>\n",
       "      <th>NIVEL</th>\n",
       "      <th>SUELDO BASE</th>\n",
       "      <th>CUOTAS SEGURIDAD SOCIAL</th>\n",
       "      <th>PREVISIÓN SOCIAL</th>\n",
       "      <th>AYUDA X SERVICIOS</th>\n",
       "      <th>APOYO FAMILIAR</th>\n",
       "      <th>GRATIFICACIÓN QUINCENAL</th>\n",
       "      <th>SUELDO MENSUAL BRUTO</th>\n",
       "      <th>IMPTO MENSUAL</th>\n",
       "      <th>ISSEG</th>\n",
       "      <th>ISSSTE</th>\n",
       "      <th>SUELDO MENSUAL NETO</th>\n",
       "    </tr>\n",
       "  </thead>\n",
       "  <tbody>\n",
       "    <tr>\n",
       "      <th>count</th>\n",
       "      <td>79.000000</td>\n",
       "      <td>79.000000</td>\n",
       "      <td>79.000000</td>\n",
       "      <td>7.900000e+01</td>\n",
       "      <td>79.000000</td>\n",
       "      <td>79.000000</td>\n",
       "      <td>79.000000</td>\n",
       "      <td>79.000000</td>\n",
       "      <td>79.000000</td>\n",
       "      <td>79.000000</td>\n",
       "      <td>79.000000</td>\n",
       "      <td>79.000000</td>\n",
       "    </tr>\n",
       "    <tr>\n",
       "      <th>mean</th>\n",
       "      <td>8.670886</td>\n",
       "      <td>14427.528244</td>\n",
       "      <td>2551.057005</td>\n",
       "      <td>1.913100e+03</td>\n",
       "      <td>4224.316456</td>\n",
       "      <td>13095.416510</td>\n",
       "      <td>13255.957722</td>\n",
       "      <td>49467.375935</td>\n",
       "      <td>11086.965356</td>\n",
       "      <td>2178.762464</td>\n",
       "      <td>372.294541</td>\n",
       "      <td>35829.353574</td>\n",
       "    </tr>\n",
       "    <tr>\n",
       "      <th>std</th>\n",
       "      <td>5.658489</td>\n",
       "      <td>12639.319936</td>\n",
       "      <td>1887.367119</td>\n",
       "      <td>2.745919e-12</td>\n",
       "      <td>5917.564742</td>\n",
       "      <td>12561.423626</td>\n",
       "      <td>16283.009818</td>\n",
       "      <td>48932.415025</td>\n",
       "      <td>14333.022606</td>\n",
       "      <td>1632.291459</td>\n",
       "      <td>257.338508</td>\n",
       "      <td>32902.782725</td>\n",
       "    </tr>\n",
       "    <tr>\n",
       "      <th>min</th>\n",
       "      <td>1.000000</td>\n",
       "      <td>3080.400000</td>\n",
       "      <td>600.678000</td>\n",
       "      <td>1.913100e+03</td>\n",
       "      <td>450.000000</td>\n",
       "      <td>1572.330000</td>\n",
       "      <td>0.000000</td>\n",
       "      <td>7616.508000</td>\n",
       "      <td>263.883632</td>\n",
       "      <td>508.266000</td>\n",
       "      <td>92.412000</td>\n",
       "      <td>6751.946368</td>\n",
       "    </tr>\n",
       "    <tr>\n",
       "      <th>25%</th>\n",
       "      <td>4.000000</td>\n",
       "      <td>4564.185105</td>\n",
       "      <td>890.016096</td>\n",
       "      <td>1.913100e+03</td>\n",
       "      <td>450.000000</td>\n",
       "      <td>3599.725827</td>\n",
       "      <td>936.540000</td>\n",
       "      <td>12353.567028</td>\n",
       "      <td>1173.958791</td>\n",
       "      <td>753.090542</td>\n",
       "      <td>136.925553</td>\n",
       "      <td>10289.592141</td>\n",
       "    </tr>\n",
       "    <tr>\n",
       "      <th>50%</th>\n",
       "      <td>8.000000</td>\n",
       "      <td>9458.572628</td>\n",
       "      <td>1844.421662</td>\n",
       "      <td>1.913100e+03</td>\n",
       "      <td>1012.000000</td>\n",
       "      <td>8611.753511</td>\n",
       "      <td>6545.820000</td>\n",
       "      <td>28148.204516</td>\n",
       "      <td>4414.420662</td>\n",
       "      <td>1560.664484</td>\n",
       "      <td>283.757179</td>\n",
       "      <td>22078.225282</td>\n",
       "    </tr>\n",
       "    <tr>\n",
       "      <th>75%</th>\n",
       "      <td>13.000000</td>\n",
       "      <td>22680.796123</td>\n",
       "      <td>4422.755244</td>\n",
       "      <td>1.913100e+03</td>\n",
       "      <td>4906.000000</td>\n",
       "      <td>16798.836156</td>\n",
       "      <td>19519.330000</td>\n",
       "      <td>70240.817524</td>\n",
       "      <td>15454.848684</td>\n",
       "      <td>3742.331360</td>\n",
       "      <td>680.423884</td>\n",
       "      <td>50363.213596</td>\n",
       "    </tr>\n",
       "    <tr>\n",
       "      <th>max</th>\n",
       "      <td>22.000000</td>\n",
       "      <td>59804.327930</td>\n",
       "      <td>5843.070000</td>\n",
       "      <td>1.913100e+03</td>\n",
       "      <td>25897.000000</td>\n",
       "      <td>64294.837780</td>\n",
       "      <td>75373.990000</td>\n",
       "      <td>233126.325711</td>\n",
       "      <td>69584.321342</td>\n",
       "      <td>5082.660000</td>\n",
       "      <td>760.410000</td>\n",
       "      <td>157698.934369</td>\n",
       "    </tr>\n",
       "  </tbody>\n",
       "</table>\n",
       "</div>"
      ],
      "text/plain": [
       "           NIVEL   SUELDO BASE  CUOTAS SEGURIDAD SOCIAL  PREVISIÓN SOCIAL  \\\n",
       "count  79.000000     79.000000                79.000000      7.900000e+01   \n",
       "mean    8.670886  14427.528244              2551.057005      1.913100e+03   \n",
       "std     5.658489  12639.319936              1887.367119      2.745919e-12   \n",
       "min     1.000000   3080.400000               600.678000      1.913100e+03   \n",
       "25%     4.000000   4564.185105               890.016096      1.913100e+03   \n",
       "50%     8.000000   9458.572628              1844.421662      1.913100e+03   \n",
       "75%    13.000000  22680.796123              4422.755244      1.913100e+03   \n",
       "max    22.000000  59804.327930              5843.070000      1.913100e+03   \n",
       "\n",
       "       AYUDA X SERVICIOS  APOYO FAMILIAR  GRATIFICACIÓN QUINCENAL  \\\n",
       "count          79.000000       79.000000                79.000000   \n",
       "mean         4224.316456    13095.416510             13255.957722   \n",
       "std          5917.564742    12561.423626             16283.009818   \n",
       "min           450.000000     1572.330000                 0.000000   \n",
       "25%           450.000000     3599.725827               936.540000   \n",
       "50%          1012.000000     8611.753511              6545.820000   \n",
       "75%          4906.000000    16798.836156             19519.330000   \n",
       "max         25897.000000    64294.837780             75373.990000   \n",
       "\n",
       "       SUELDO MENSUAL BRUTO  IMPTO MENSUAL        ISSEG      ISSSTE  \\\n",
       "count             79.000000      79.000000    79.000000   79.000000   \n",
       "mean           49467.375935   11086.965356  2178.762464  372.294541   \n",
       "std            48932.415025   14333.022606  1632.291459  257.338508   \n",
       "min             7616.508000     263.883632   508.266000   92.412000   \n",
       "25%            12353.567028    1173.958791   753.090542  136.925553   \n",
       "50%            28148.204516    4414.420662  1560.664484  283.757179   \n",
       "75%            70240.817524   15454.848684  3742.331360  680.423884   \n",
       "max           233126.325711   69584.321342  5082.660000  760.410000   \n",
       "\n",
       "       SUELDO MENSUAL NETO  \n",
       "count            79.000000  \n",
       "mean          35829.353574  \n",
       "std           32902.782725  \n",
       "min            6751.946368  \n",
       "25%           10289.592141  \n",
       "50%           22078.225282  \n",
       "75%           50363.213596  \n",
       "max          157698.934369  "
      ]
     },
     "execution_count": 7,
     "metadata": {},
     "output_type": "execute_result"
    }
   ],
   "source": [
    "sueldos.describe()"
   ]
  },
  {
   "cell_type": "code",
   "execution_count": 8,
   "metadata": {},
   "outputs": [
    {
     "data": {
      "text/plain": [
       "count        79.000000\n",
       "mean      49467.375935\n",
       "std       48932.415025\n",
       "min        7616.508000\n",
       "25%       12353.567028\n",
       "50%       28148.204516\n",
       "75%       70240.817524\n",
       "max      233126.325711\n",
       "Name: SUELDO MENSUAL BRUTO, dtype: float64"
      ]
     },
     "execution_count": 8,
     "metadata": {},
     "output_type": "execute_result"
    }
   ],
   "source": [
    "sueldos.describe()['SUELDO MENSUAL BRUTO']"
   ]
  },
  {
   "cell_type": "code",
   "execution_count": 9,
   "metadata": {},
   "outputs": [
    {
     "data": {
      "text/plain": [
       "25%    10289.592141\n",
       "50%    22078.225282\n",
       "75%    50363.213596\n",
       "Name: SUELDO MENSUAL NETO, dtype: float64"
      ]
     },
     "execution_count": 9,
     "metadata": {},
     "output_type": "execute_result"
    }
   ],
   "source": [
    "sueldos.describe()['SUELDO MENSUAL NETO'].loc['25%' : '75%']"
   ]
  },
  {
   "cell_type": "markdown",
   "metadata": {},
   "source": [
    "#### <strong>¿Cuál es la dispersión de sueldos?</strong> "
   ]
  },
  {
   "cell_type": "code",
   "execution_count": 21,
   "metadata": {},
   "outputs": [
    {
     "data": {
      "image/png": "[encoded data removed]",
      "text/plain": [
       "<Figure size 432x288 with 1 Axes>"
      ]
     },
     "metadata": {},
     "output_type": "display_data"
    }
   ],
   "source": [
    "plt.hist(sueldos['SUELDO MENSUAL NETO'], bins = 20, alpha = 0.6, color = 'red')\n",
    "plt.title('Diagrama de sueldos')\n",
    "plt.xlabel('Sueldo')\n",
    "plt.ylabel('Frecuencia')\n",
    "plt.show()"
   ]
  },
  {
   "cell_type": "code",
   "execution_count": 11,
   "metadata": {},
   "outputs": [],
   "source": [
    "mediana = sueldos['SUELDO MENSUAL NETO'].median()"
   ]
  },
  {
   "cell_type": "code",
   "execution_count": 13,
   "metadata": {},
   "outputs": [
    {
     "data": {
      "text/plain": [
       "0     135620.709087\n",
       "1     110860.973760\n",
       "2      85955.261168\n",
       "3      85955.261168\n",
       "4      74270.865363\n",
       "5      74270.865363\n",
       "6      74270.865363\n",
       "7      63603.547699\n",
       "8      63603.547699\n",
       "9      52836.226436\n",
       "10     52836.226436\n",
       "11     52836.226436\n",
       "12     46571.230993\n",
       "13     46571.230993\n",
       "14     46571.230993\n",
       "15     35547.430143\n",
       "16     35547.430143\n",
       "17     35547.430143\n",
       "18     28284.988314\n",
       "19     28284.988314\n",
       "20     28284.988314\n",
       "21     23079.584458\n",
       "22     23079.584458\n",
       "23     23079.584458\n",
       "24     23079.584458\n",
       "25     16604.403744\n",
       "26     16604.403744\n",
       "27     16604.403744\n",
       "28     16604.403744\n",
       "29     11258.578058\n",
       "          ...      \n",
       "49      4843.459170\n",
       "50      4843.459170\n",
       "51      7087.648269\n",
       "52      8502.632024\n",
       "53      8502.632024\n",
       "54      8502.632024\n",
       "55      8502.632024\n",
       "56      9419.241178\n",
       "57     11788.633141\n",
       "58     11788.633141\n",
       "59     11788.633141\n",
       "60     11788.633141\n",
       "61     12468.438379\n",
       "62     12468.438379\n",
       "63     12468.438379\n",
       "64     12468.438379\n",
       "65     12468.438379\n",
       "66     13783.389330\n",
       "67     13783.389330\n",
       "68     13783.389330\n",
       "69     13783.389330\n",
       "70     13783.389330\n",
       "71     14581.058774\n",
       "72     14581.058774\n",
       "73     14581.058774\n",
       "74     14581.058774\n",
       "75     15326.278914\n",
       "76     15326.278914\n",
       "77     15326.278914\n",
       "78     15326.278914\n",
       "Name: SUELDO MENSUAL NETO, Length: 79, dtype: float64"
      ]
     },
     "execution_count": 13,
     "metadata": {},
     "output_type": "execute_result"
    }
   ],
   "source": [
    "#Dispersión con respecto a la mediana.\n",
    "np.abs(sueldos['SUELDO MENSUAL NETO'] - mediana)"
   ]
  },
  {
   "cell_type": "code",
   "execution_count": 29,
   "metadata": {},
   "outputs": [
    {
     "data": {
      "text/plain": [
       "25%    10289.592141\n",
       "50%    22078.225282\n",
       "75%    50363.213596\n",
       "Name: SUELDO MENSUAL NETO, dtype: float64"
      ]
     },
     "execution_count": 29,
     "metadata": {},
     "output_type": "execute_result"
    }
   ],
   "source": [
    "#Hasta el 25% de los trabajadores tiene el primer sueldos, hasta el 50% tiene el segundo sueldo y hasta el\n",
    "#75% tiene el tercer sueldo.\n",
    "sueldos['SUELDO MENSUAL NETO'].describe()['25%' : '75%']"
   ]
  },
  {
   "cell_type": "code",
   "execution_count": 117,
   "metadata": {},
   "outputs": [
    {
     "name": "stdout",
     "output_type": "stream",
     "text": [
      "Valor y posición de mediana:  22078.22528193275 42\n",
      "Valor y posición del tercer cuartil:  50363.2135957455 20\n"
     ]
    },
    {
     "data": {
      "image/png": "[encoded data removed]",
      "text/plain": [
       "<Figure size 432x288 with 1 Axes>"
      ]
     },
     "metadata": {},
     "output_type": "display_data"
    }
   ],
   "source": [
    "V = np.array(sueldos)\n",
    "k, h = 0, 0\n",
    "for i in range(len(V)):\n",
    "    if(V[i][13] == mediana):\n",
    "        k = i\n",
    "    if(V[i][13] == sueldos['SUELDO MENSUAL NETO'].quantile(0.75)):\n",
    "        h = i\n",
    "print('Valor y posición de mediana: ', sueldos['SUELDO MENSUAL NETO'].quantile(.5), k)\n",
    "print('Valor y posición del tercer cuartil: ', sueldos['SUELDO MENSUAL NETO'].quantile(.75), h)\n",
    "\n",
    "plt.hist(sueldos[sueldos['SUELDO MENSUAL NETO'] <= mediana]['SUELDO MENSUAL NETO'], bins = k, color = 'purple', alpha = 0.6)\n",
    "plt.hist(sueldos[sueldos['SUELDO MENSUAL NETO'] > mediana]['SUELDO MENSUAL NETO'], bins = h, color = 'yellow', alpha = 0.6)\n",
    "plt.plot(np.ones(100) * mediana, np.linspace(0,12, 100), 'k', label = 'Mediana')\n",
    "plt.plot(np.ones(12) * sueldos['SUELDO MENSUAL NETO'].quantile(.75), np.linspace(0,12,12), 'k', linestyle = ':', label = 'Tercer cuartil')\n",
    "plt.legend(frameon = True)\n",
    "plt.show()"
   ]
  },
  {
   "cell_type": "markdown",
   "metadata": {},
   "source": [
    "#### <strong>¿Cuál es el sueldo base máximo?</strong>"
   ]
  },
  {
   "cell_type": "code",
   "execution_count": 89,
   "metadata": {},
   "outputs": [
    {
     "data": {
      "text/plain": [
       "157698.9343690769"
      ]
     },
     "execution_count": 89,
     "metadata": {},
     "output_type": "execute_result"
    }
   ],
   "source": [
    "#Trabajando con el sueldo mensual neto:\n",
    "sueldos['SUELDO MENSUAL NETO'].max()"
   ]
  },
  {
   "cell_type": "markdown",
   "metadata": {},
   "source": [
    "#### <strong>¿Cuál es el sueldo base mínimo?</strong>"
   ]
  },
  {
   "cell_type": "code",
   "execution_count": 90,
   "metadata": {},
   "outputs": [
    {
     "data": {
      "text/plain": [
       "6751.946368"
      ]
     },
     "execution_count": 90,
     "metadata": {},
     "output_type": "execute_result"
    }
   ],
   "source": [
    "#Trabajando con el sueldo mensual neto:\n",
    "sueldos['SUELDO MENSUAL NETO'].min()"
   ]
  },
  {
   "cell_type": "markdown",
   "metadata": {},
   "source": [
    "#### <strong> Porcentaje relativo de cada una de las componentes del sueldo mensual neto en cada uno de los puestos </strong>"
   ]
  },
  {
   "cell_type": "code",
   "execution_count": 93,
   "metadata": {},
   "outputs": [
    {
     "data": {
      "text/plain": [
       "(79, 16)"
      ]
     },
     "execution_count": 93,
     "metadata": {},
     "output_type": "execute_result"
    }
   ],
   "source": [
    "#Primero se comprueban dimensiones, la 13'va columna corresponde al Sueldo Mensual Neto.\n",
    "sueldos.shape"
   ]
  },
  {
   "cell_type": "code",
   "execution_count": 164,
   "metadata": {},
   "outputs": [
    {
     "ename": "TypeError",
     "evalue": "ufunc 'true_divide' not supported for the input types, and the inputs could not be safely coerced to any supported types according to the casting rule ''safe''",
     "output_type": "error",
     "traceback": [
      "\u001b[0;31m---------------------------------------------------------------------------\u001b[0m",
      "\u001b[0;31mTypeError\u001b[0m                                 Traceback (most recent call last)",
      "\u001b[0;32m<ipython-input-164-3683aa542edf>\u001b[0m in \u001b[0;36m<module>\u001b[0;34m()\u001b[0m\n\u001b[1;32m      6\u001b[0m \u001b[0mPrueba\u001b[0m \u001b[0;34m=\u001b[0m \u001b[0;34m[\u001b[0m\u001b[0;34m]\u001b[0m\u001b[0;34m\u001b[0m\u001b[0m\n\u001b[1;32m      7\u001b[0m \u001b[0;32mfor\u001b[0m \u001b[0mi\u001b[0m \u001b[0;32min\u001b[0m \u001b[0mrange\u001b[0m\u001b[0;34m(\u001b[0m\u001b[0mlen\u001b[0m\u001b[0;34m(\u001b[0m\u001b[0mV\u001b[0m\u001b[0;34m)\u001b[0m\u001b[0;34m)\u001b[0m\u001b[0;34m:\u001b[0m\u001b[0;34m\u001b[0m\u001b[0m\n\u001b[0;32m----> 8\u001b[0;31m     \u001b[0mPrueba\u001b[0m\u001b[0;34m[\u001b[0m\u001b[0mi\u001b[0m\u001b[0;34m]\u001b[0m \u001b[0;34m=\u001b[0m \u001b[0msueldos\u001b[0m\u001b[0;34m[\u001b[0m\u001b[0mp\u001b[0m\u001b[0;34m[\u001b[0m\u001b[0;36m0\u001b[0m\u001b[0;34m]\u001b[0m\u001b[0;34m]\u001b[0m\u001b[0;34m[\u001b[0m\u001b[0mi\u001b[0m\u001b[0;34m]\u001b[0m \u001b[0;34m/\u001b[0m \u001b[0msueldos\u001b[0m\u001b[0;34m[\u001b[0m\u001b[0mp\u001b[0m\u001b[0;34m[\u001b[0m\u001b[0;36m11\u001b[0m\u001b[0;34m]\u001b[0m\u001b[0;34m]\u001b[0m\u001b[0;34m[\u001b[0m\u001b[0mi\u001b[0m\u001b[0;34m]\u001b[0m\u001b[0;34m\u001b[0m\u001b[0m\n\u001b[0m\u001b[1;32m      9\u001b[0m \u001b[0;31m#for i in range(10):\u001b[0m\u001b[0;34m\u001b[0m\u001b[0;34m\u001b[0m\u001b[0m\n\u001b[1;32m     10\u001b[0m \u001b[0;31m#    Porcentaje[posicion[i + 1]] = sueldos[p[i]] + sueldos[p[11]]\u001b[0m\u001b[0;34m\u001b[0m\u001b[0;34m\u001b[0m\u001b[0m\n",
      "\u001b[0;31mTypeError\u001b[0m: ufunc 'true_divide' not supported for the input types, and the inputs could not be safely coerced to any supported types according to the casting rule ''safe''"
     ]
    }
   ],
   "source": [
    "#Pendiente\n",
    "p = ['PUESTO', 'SUELDO BASE', 'CUOTAS SEGURIDAD SOCIAL', 'PREVISIÓN SOCIAL', 'AYUDA X SERVICIOS',\n",
    "            'APOYO FAMILIAR', 'GRATIFICACIÓN QUINCENAL', 'SUELDO MENSUAL BRUTO', 'IMPTO MENSUAL', 'ISSEG',\n",
    "            'ISSSTE', 'SUELDO MENSUAL NETO']\n",
    "Porcentaje = pd.DataFrame({\"PUESTO\" : sueldos[p[0]]})\n",
    "\n",
    "Prueba = []\n",
    "for i in range(len(V)):\n",
    "    Prueba[i] = sueldos[p[0]][i] / sueldos[p[11]][i]\n",
    "#for i in range(10):\n",
    "#    Porcentaje[posicion[i + 1]] = sueldos[p[i]] + sueldos[p[11]]\n",
    "    \n",
    "#Porcentaje.head()\n",
    "Prueba"
   ]
  },
  {
   "cell_type": "code",
   "execution_count": 109,
   "metadata": {},
   "outputs": [
    {
     "data": {
      "text/plain": [
       "2.4656492922075816e-32"
      ]
     },
     "execution_count": 109,
     "metadata": {},
     "output_type": "execute_result"
    }
   ],
   "source": [
    "a = V_c[0][3] = V_c[0][3] / V_c[0][13]\n",
    "a"
   ]
  },
  {
   "cell_type": "markdown",
   "metadata": {},
   "source": [
    "#### <strong> ¿De cuánto dinero es la diferencia entre el sueldo neto mayor (gobernador del estado) y el sueldo de otros empleados (por ejemplo, alguien de nivel 1, que es el nivel más bajo en la tabla)?</strong>"
   ]
  },
  {
   "cell_type": "code",
   "execution_count": 135,
   "metadata": {},
   "outputs": [
    {
     "data": {
      "text/html": [
       "<div>\n",
       "<style scoped>\n",
       "    .dataframe tbody tr th:only-of-type {\n",
       "        vertical-align: middle;\n",
       "    }\n",
       "\n",
       "    .dataframe tbody tr th {\n",
       "        vertical-align: top;\n",
       "    }\n",
       "\n",
       "    .dataframe thead th {\n",
       "        text-align: right;\n",
       "    }\n",
       "</style>\n",
       "<table border=\"1\" class=\"dataframe\">\n",
       "  <thead>\n",
       "    <tr style=\"text-align: right;\">\n",
       "      <th></th>\n",
       "      <th>Puesto</th>\n",
       "      <th>Diferencia</th>\n",
       "    </tr>\n",
       "  </thead>\n",
       "  <tbody>\n",
       "    <tr>\n",
       "      <th>0</th>\n",
       "      <td>GOBERNADOR/A DEL ESTADO</td>\n",
       "      <td>0.000000</td>\n",
       "    </tr>\n",
       "    <tr>\n",
       "      <th>1</th>\n",
       "      <td>SECRETARIO/A DE ESTADO A</td>\n",
       "      <td>24759.735327</td>\n",
       "    </tr>\n",
       "    <tr>\n",
       "      <th>2</th>\n",
       "      <td>DIRECTOR/A GENERAL PARAESTATAL A</td>\n",
       "      <td>49665.447919</td>\n",
       "    </tr>\n",
       "    <tr>\n",
       "      <th>3</th>\n",
       "      <td>SECRETARIO/A DE ESTADO B</td>\n",
       "      <td>49665.447919</td>\n",
       "    </tr>\n",
       "    <tr>\n",
       "      <th>4</th>\n",
       "      <td>SECRETARIO/A DE ESTADO C</td>\n",
       "      <td>61349.843724</td>\n",
       "    </tr>\n",
       "  </tbody>\n",
       "</table>\n",
       "</div>"
      ],
      "text/plain": [
       "                             Puesto    Diferencia\n",
       "0           GOBERNADOR/A DEL ESTADO      0.000000\n",
       "1          SECRETARIO/A DE ESTADO A  24759.735327\n",
       "2  DIRECTOR/A GENERAL PARAESTATAL A  49665.447919\n",
       "3          SECRETARIO/A DE ESTADO B  49665.447919\n",
       "4          SECRETARIO/A DE ESTADO C  61349.843724"
      ]
     },
     "execution_count": 135,
     "metadata": {},
     "output_type": "execute_result"
    }
   ],
   "source": [
    "Diferencia = pd.DataFrame({\"Puesto\" : sueldos['PUESTO'], \"Diferencia\" : \n",
    "                           np.abs(sueldos['SUELDO MENSUAL NETO'] - sueldos['SUELDO MENSUAL NETO'].max())})\n",
    "Diferencia.head()"
   ]
  },
  {
   "cell_type": "markdown",
   "metadata": {},
   "source": [
    "#### <strong> ¿Qué porcentaje se da de apoyo en sus diferentes modalidades para cada uno? </strong>"
   ]
  },
  {
   "cell_type": "markdown",
   "metadata": {},
   "source": [
    "Considerando apoyos las columnas CUOTAS SEGURIDAD SOCIAL, PREVISIÓN SOCIAL, AYUDA X SERVICIOS, APOYO FAMILIAR y GRATIFICACIÓN QUINCENAL, se tiene lo siguiente:"
   ]
  },
  {
   "cell_type": "code",
   "execution_count": 137,
   "metadata": {},
   "outputs": [
    {
     "data": {
      "text/html": [
       "<div>\n",
       "<style scoped>\n",
       "    .dataframe tbody tr th:only-of-type {\n",
       "        vertical-align: middle;\n",
       "    }\n",
       "\n",
       "    .dataframe tbody tr th {\n",
       "        vertical-align: top;\n",
       "    }\n",
       "\n",
       "    .dataframe thead th {\n",
       "        text-align: right;\n",
       "    }\n",
       "</style>\n",
       "<table border=\"1\" class=\"dataframe\">\n",
       "  <thead>\n",
       "    <tr style=\"text-align: right;\">\n",
       "      <th></th>\n",
       "      <th>Puesto</th>\n",
       "      <th>Apoyos</th>\n",
       "    </tr>\n",
       "  </thead>\n",
       "  <tbody>\n",
       "    <tr>\n",
       "      <th>0</th>\n",
       "      <td>GOBERNADOR/A DEL ESTADO</td>\n",
       "      <td>173321.997780</td>\n",
       "    </tr>\n",
       "    <tr>\n",
       "      <th>1</th>\n",
       "      <td>SECRETARIO/A DE ESTADO A</td>\n",
       "      <td>146585.629699</td>\n",
       "    </tr>\n",
       "    <tr>\n",
       "      <th>2</th>\n",
       "      <td>DIRECTOR/A GENERAL PARAESTATAL A</td>\n",
       "      <td>117189.695456</td>\n",
       "    </tr>\n",
       "    <tr>\n",
       "      <th>3</th>\n",
       "      <td>SECRETARIO/A DE ESTADO B</td>\n",
       "      <td>117189.695456</td>\n",
       "    </tr>\n",
       "    <tr>\n",
       "      <th>4</th>\n",
       "      <td>SECRETARIO/A DE ESTADO C</td>\n",
       "      <td>103088.308404</td>\n",
       "    </tr>\n",
       "  </tbody>\n",
       "</table>\n",
       "</div>"
      ],
      "text/plain": [
       "                             Puesto         Apoyos\n",
       "0           GOBERNADOR/A DEL ESTADO  173321.997780\n",
       "1          SECRETARIO/A DE ESTADO A  146585.629699\n",
       "2  DIRECTOR/A GENERAL PARAESTATAL A  117189.695456\n",
       "3          SECRETARIO/A DE ESTADO B  117189.695456\n",
       "4          SECRETARIO/A DE ESTADO C  103088.308404"
      ]
     },
     "execution_count": 137,
     "metadata": {},
     "output_type": "execute_result"
    }
   ],
   "source": [
    "Apoyo = pd.DataFrame({\"Puesto\" : sueldos['PUESTO'], \"Apoyos\" : sueldos['CUOTAS SEGURIDAD SOCIAL'] + \n",
    "                      sueldos['PREVISIÓN SOCIAL'] + sueldos['AYUDA X SERVICIOS'] + sueldos['APOYO FAMILIAR']\n",
    "                      + sueldos['GRATIFICACIÓN QUINCENAL']})\n",
    "Apoyo.head()"
   ]
  },
  {
   "cell_type": "markdown",
   "metadata": {},
   "source": [
    "#### <strong>¿Cuánto dinero es utilizado en ISSSTE entre todos los puestos?</strong>"
   ]
  },
  {
   "cell_type": "code",
   "execution_count": 139,
   "metadata": {},
   "outputs": [
    {
     "data": {
      "text/plain": [
       "29411.26871446277"
      ]
     },
     "execution_count": 139,
     "metadata": {},
     "output_type": "execute_result"
    }
   ],
   "source": [
    "sueldos['ISSSTE'].sum()"
   ]
  },
  {
   "cell_type": "code",
   "execution_count": 159,
   "metadata": {},
   "outputs": [
    {
     "data": {
      "text/plain": [
       "array([157698.9343690769, 132939.1990423504, 108033.48645027087,\n",
       "       108033.48645027087, 96349.09064496944, 96349.09064496944,\n",
       "       96349.09064496944, 85681.77298048903, 85681.77298048903,\n",
       "       74914.45171783582, 74914.45171783582, 74914.45171783582,\n",
       "       68649.45627535875, 68649.45627535875, 68649.45627535875,\n",
       "       57625.655424524426, 57625.655424524426, 57625.655424524426,\n",
       "       50363.2135957455, 50363.2135957455, 50363.2135957455,\n",
       "       45157.80973951962, 45157.80973951962, 45157.80973951962,\n",
       "       45157.80973951962, 38682.629025882175, 38682.629025882175,\n",
       "       38682.629025882175, 38682.629025882175, 33336.80333984691,\n",
       "       29988.3289175114, 29988.3289175114, 29988.3289175114,\n",
       "       26918.33770243292, 24096.831542857904, 24096.831542857904,\n",
       "       24096.831542857904, 24342.536939662612, 21800.520101845435,\n",
       "       21800.520101845435, 21800.520101845435, 22078.22528193275,\n",
       "       22078.22528193275, 19776.492237425686, 19776.492237425686,\n",
       "       19776.492237425686, 19073.34218615913, 17234.766111457655,\n",
       "       17234.766111457655, 17234.766111457655, 17234.766111457655,\n",
       "       14990.577013138747, 13575.593257788023, 13575.593257788023,\n",
       "       13575.593257788023, 13575.593257788023, 12658.98410416772,\n",
       "       10289.592141252884, 10289.592141252884, 10289.592141252884,\n",
       "       10289.592141252884, 9609.786902452544, 9609.786902452544,\n",
       "       9609.786902452544, 9609.786902452544, 9609.786902452544,\n",
       "       8294.835952161082, 8294.835952161082, 8294.835952161082,\n",
       "       8294.835952161082, 8294.835952161082, 7497.166507720514,\n",
       "       7497.166507720514, 7497.166507720514, 7497.166507720514,\n",
       "       6751.946368, 6751.946368, 6751.946368, 6751.946368], dtype=object)"
      ]
     },
     "execution_count": 159,
     "metadata": {},
     "output_type": "execute_result"
    }
   ],
   "source": [
    "V[:,13]"
   ]
  },
  {
   "cell_type": "code",
   "execution_count": null,
   "metadata": {},
   "outputs": [],
   "source": []
  }
 ],
 "metadata": {
  "kernelspec": {
   "display_name": "Python 3",
   "language": "python",
   "name": "python3"
  },
  "language_info": {
   "codemirror_mode": {
    "name": "ipython",
    "version": 3
   },
   "file_extension": ".py",
   "mimetype": "text/x-python",
   "name": "python",
   "nbconvert_exporter": "python",
   "pygments_lexer": "ipython3",
   "version": "3.6.5"
  }
 },
 "nbformat": 4,
 "nbformat_minor": 2
}
