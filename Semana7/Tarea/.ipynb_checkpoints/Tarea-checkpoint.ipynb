{
 "cells": [
  {
   "cell_type": "code",
   "execution_count": 1,
   "metadata": {},
   "outputs": [],
   "source": [
    "import matplotlib as mpl\n",
    "import matplotlib.pyplot as plt\n",
    "import numpy as np\n",
    "import pandas as pd\n",
    "import requests\n",
    "import os\n",
    "from astropy.io import fits\n",
    "from astropy.table import Table\n",
    "\n",
    "plt.style.use('seaborn-whitegrid')"
   ]
  },
  {
   "cell_type": "markdown",
   "metadata": {},
   "source": [
    "Se comienza con los arreglos generados en la clase pasada:"
   ]
  },
  {
   "cell_type": "code",
   "execution_count": 2,
   "metadata": {},
   "outputs": [],
   "source": [
    "#Para generar los puntos aleatorios, probemos con un arreglo como el siguiente:\n",
    "x = np.linspace(0, 2, 15)\n",
    "\n",
    "#Queremos tender a valores que coincidan con y = 3x + 2, por tanto generamos para cada x una y:\n",
    "error = np.random.normal(0, 0.2, 15)\n",
    "y = 3 * x + 2 + error"
   ]
  },
  {
   "cell_type": "code",
   "execution_count": 6,
   "metadata": {},
   "outputs": [],
   "source": [
    "#Y la función de la recta:\n",
    "def recta(x, a, b):\n",
    "    return a * x + b\n",
    "\n",
    "#La función del logaritmo del likelihood:\n",
    "def chisq(parametros, data):\n",
    "    x = data[0]\n",
    "    y = data[1]\n",
    "    y_err = data[2]\n",
    "    \n",
    "    model = recta(x, parametros[0], parametros[1])\n",
    "    chisq = (y - model) ** 2 / y_err ** 2\n",
    "    return chisq.sum()"
   ]
  },
  {
   "cell_type": "markdown",
   "metadata": {},
   "source": [
    "Para el <strong>método de metrópolis</strong> se hace uso de un valor inicial de los parámetros, en esta ocasión se comenzará con <strong>a = 1.5, b = 4.</strong> Se producirá un arreglo en el que se guardarán los valores de <strong>a, b</strong> para los cuales el <strong>likelihood</strong> es mayor que en la iteración anterior o que cumple con la condición de ser menor que un número aleatorio producido en el rango [0, 1].\n",
    "\n",
    "Además, requiero de comparar la condición de que el <strong>likelihood</strong> sea mayor que en una iteración anterior, por lo que se produce un valor inicial para éste."
   ]
  },
  {
   "cell_type": "code",
   "execution_count": 297,
   "metadata": {},
   "outputs": [],
   "source": [
    "#Valor inicial de parámetros:\n",
    "a_inicial = 1.5\n",
    "b_inicial = 4\n",
    "\n",
    "#Valor inicial del likelihood:\n",
    "lh_inicial = chisq([a_inicial, b_inicial], [x, y, error])\n",
    "\n",
    "#Arreglos donde se guardarán los valores de a, b, likelihood:\n",
    "a = []\n",
    "b = []\n",
    "lh = []\n",
    "\n",
    "#Se guardan los primeros valores propuestos:\n",
    "a.append(a_inicial)\n",
    "b.append(b_inicial)\n",
    "lh.append(lh_inicial)"
   ]
  },
  {
   "cell_type": "markdown",
   "metadata": {},
   "source": [
    "Ahora que se tienen los valores iniciales y el lugar donde se guardará el valor de los parámetros obtenidos, es momento de producir el <strong>método de metrópolis</strong>:\n",
    "\n",
    "<strong>Nota:</strong> para ésto, se producirán N intentos de <strong>a, b</strong> por pares."
   ]
  },
  {
   "cell_type": "code",
   "execution_count": 298,
   "metadata": {},
   "outputs": [],
   "source": [
    "N = 200000\n",
    "k = 0\n",
    "\n",
    "#Se producen valores aleatorios uniformes para a,b con np.random.uniform(), los límites según el argumento:\n",
    "lim_i_a, lim_s_a = 2.9, 4.\n",
    "\n",
    "for i in range(N):\n",
    "    a_aux = np.random.rand() * 10 #Se generan dos valores random, no importa la distribución en rango [0,10].\n",
    "    b_aux = np.random.rand() * 10\n",
    "    lh_aux = chisq([a_aux, b_aux], [x, y, error]) #Primer comparación para actualización de likelihood.\n",
    "    if lh_aux < lh_inicial: #La maximización del likelihood equivale a la minimización de chi square.\n",
    "        #Si se cumple la condición, se agregan a, b y se actualiza el valor del likelihood.\n",
    "        a.append(a_aux)\n",
    "        b.append(b_aux)\n",
    "        lh.append(lh_aux)\n",
    "        lh_inicial = lh_aux\n",
    "    else:\n",
    "        comparador = np.random.uniform(0, 1)\n",
    "        if (lh_aux - lh_inicial) < comparador:\n",
    "            a.append(a_aux)\n",
    "            b.append(b_aux)\n",
    "            lh.append(lh_aux)\n",
    "            lh_inicial = lh_aux #En esta parte tengo duda, se acepta el valor, pero... ¿se actualiza lh?"
   ]
  },
  {
   "cell_type": "code",
   "execution_count": 308,
   "metadata": {},
   "outputs": [
    {
     "data": {
      "text/plain": [
       "(array([8]),)"
      ]
     },
     "execution_count": 308,
     "metadata": {},
     "output_type": "execute_result"
    }
   ],
   "source": [
    "#El mínimo chi square está en:\n",
    "np.where(lh == np.min(lh))"
   ]
  },
  {
   "cell_type": "code",
   "execution_count": 302,
   "metadata": {},
   "outputs": [
    {
     "data": {
      "image/png": "[encoded data removed]",
      "text/plain": [
       "<Figure size 432x288 with 1 Axes>"
      ]
     },
     "metadata": {
      "needs_background": "light"
     },
     "output_type": "display_data"
    }
   ],
   "source": [
    "plt.plot(a,b, color = 'red', label = 'Número de iteraciones = {0}'.format(len(a)))\n",
    "plt.title('Convergencia de a, b')\n",
    "plt.xlabel('a')\n",
    "plt.ylabel('b')\n",
    "plt.legend(frameon = True)\n",
    "plt.show()"
   ]
  },
  {
   "cell_type": "code",
   "execution_count": 321,
   "metadata": {},
   "outputs": [
    {
     "data": {
      "image/png": "[encoded data removed]",
      "text/plain": [
       "<Figure size 432x288 with 1 Axes>"
      ]
     },
     "metadata": {
      "needs_background": "light"
     },
     "output_type": "display_data"
    }
   ],
   "source": [
    "plt.hist(a, 20, color = 'black', alpha = 0.5, label = 'a = {0}'.format(a[8]))\n",
    "plt.axvline(3, color = 'red', label = 'a real')\n",
    "plt.axvline(a[8], color = 'yellow', label = 'a estimada')\n",
    "plt.xlabel('a')\n",
    "plt.ylabel('Frecuencia')\n",
    "plt.legend(frameon = True)\n",
    "plt.show()"
   ]
  },
  {
   "cell_type": "code",
   "execution_count": 323,
   "metadata": {},
   "outputs": [
    {
     "data": {
      "image/png": "[encoded data removed]",
      "text/plain": [
       "<Figure size 432x288 with 1 Axes>"
      ]
     },
     "metadata": {
      "needs_background": "light"
     },
     "output_type": "display_data"
    }
   ],
   "source": [
    "plt.hist(b, 20, color = 'black', alpha = 0.5, label = 'b = {0}'.format(b[8]))\n",
    "plt.axvline(2, color = 'red', label = 'b real')\n",
    "plt.axvline(b[8], color = 'yellow', label = 'b estimada')\n",
    "plt.xlabel('b')\n",
    "plt.ylabel('Frecuencia')\n",
    "plt.legend(frameon = True)\n",
    "plt.show()"
   ]
  },
  {
   "cell_type": "markdown",
   "metadata": {},
   "source": [
    "## <strong>Referencias</strong>\n",
    "\n",
    "[1] Dr. Veselina Kalinova. Lecture notes on Regression: MarkovChain Monte Carlo (MCMC). Max Planck Institute for Radioastronomy, Bonn “Machine Learning course: the elegant way to extractinformation from data”, 13-23 Ferbruary, 2017. url: https://events.mpifr-bonn.mpg.de/indico/event/30/material/slides/12.pdf\n",
    "\n",
    "[2] Maximum Likelihood Estimation For Regression. Ashan Priyadarshana. url: https://medium.com/quick-code/maximum-likelihood-estimation-for-regression-65f9c99f815d\n",
    "\n",
    "[3] Markov Chain Monte Carlo. url: https://rein.utsc.utoronto.ca/teaching/PSCB57_notes_lecture11.pdf"
   ]
  },
  {
   "cell_type": "code",
   "execution_count": null,
   "metadata": {},
   "outputs": [],
   "source": []
  }
 ],
 "metadata": {
  "kernelspec": {
   "display_name": "Python 3",
   "language": "python",
   "name": "python3"
  },
  "language_info": {
   "codemirror_mode": {
    "name": "ipython",
    "version": 3
   },
   "file_extension": ".py",
   "mimetype": "text/x-python",
   "name": "python",
   "nbconvert_exporter": "python",
   "pygments_lexer": "ipython3",
   "version": "3.6.9"
  }
 },
 "nbformat": 4,
 "nbformat_minor": 4
}
