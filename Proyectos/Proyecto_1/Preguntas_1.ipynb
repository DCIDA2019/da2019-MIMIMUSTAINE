{
 "cells": [
  {
   "cell_type": "code",
   "execution_count": 1,
   "metadata": {},
   "outputs": [],
   "source": [
    "import matplotlib as mpl\n",
    "import matplotlib.pyplot as plt\n",
    "import numpy as np\n",
    "import pandas as pd\n",
    "import requests\n",
    "import os\n",
    "\n",
    "plt.style.use('seaborn-whitegrid')"
   ]
  },
  {
   "cell_type": "code",
   "execution_count": 2,
   "metadata": {},
   "outputs": [
    {
     "data": {
      "text/html": [
       "<div>\n",
       "<style scoped>\n",
       "    .dataframe tbody tr th:only-of-type {\n",
       "        vertical-align: middle;\n",
       "    }\n",
       "\n",
       "    .dataframe tbody tr th {\n",
       "        vertical-align: top;\n",
       "    }\n",
       "\n",
       "    .dataframe thead th {\n",
       "        text-align: right;\n",
       "    }\n",
       "</style>\n",
       "<table border=\"1\" class=\"dataframe\">\n",
       "  <thead>\n",
       "    <tr style=\"text-align: right;\">\n",
       "      <th></th>\n",
       "      <th>NIVEL</th>\n",
       "      <th>TIPO</th>\n",
       "      <th>PUESTO</th>\n",
       "      <th>SUELDO BASE</th>\n",
       "      <th>CUOTAS SEGURIDAD SOCIAL</th>\n",
       "      <th>PREVISIÓN SOCIAL</th>\n",
       "      <th>AYUDA X SERVICIOS</th>\n",
       "      <th>APOYO FAMILIAR</th>\n",
       "      <th>GRATIFICACIÓN QUINCENAL</th>\n",
       "      <th>SUELDO MENSUAL BRUTO</th>\n",
       "      <th>IMPTO MENSUAL</th>\n",
       "      <th>ISSEG</th>\n",
       "      <th>ISSSTE</th>\n",
       "      <th>SUELDO MENSUAL NETO</th>\n",
       "      <th>PRIMA VACACIONAL</th>\n",
       "      <th>AGUINALDO</th>\n",
       "    </tr>\n",
       "  </thead>\n",
       "  <tbody>\n",
       "    <tr>\n",
       "      <td>0</td>\n",
       "      <td>22</td>\n",
       "      <td>NaN</td>\n",
       "      <td>GOBERNADOR/A DEL ESTADO</td>\n",
       "      <td>59804.327930</td>\n",
       "      <td>5843.07</td>\n",
       "      <td>1913.1</td>\n",
       "      <td>25897</td>\n",
       "      <td>64294.837780</td>\n",
       "      <td>75373.99</td>\n",
       "      <td>233126.325711</td>\n",
       "      <td>69584.321342</td>\n",
       "      <td>5082.66</td>\n",
       "      <td>760.41</td>\n",
       "      <td>157698.934369</td>\n",
       "      <td>10 Días por Año</td>\n",
       "      <td>45 Días por Año</td>\n",
       "    </tr>\n",
       "    <tr>\n",
       "      <td>1</td>\n",
       "      <td>20</td>\n",
       "      <td>NaN</td>\n",
       "      <td>SECRETARIO/A DE ESTADO A</td>\n",
       "      <td>49025.945517</td>\n",
       "      <td>5843.07</td>\n",
       "      <td>1913.1</td>\n",
       "      <td>22783</td>\n",
       "      <td>48858.839699</td>\n",
       "      <td>67187.62</td>\n",
       "      <td>195611.575216</td>\n",
       "      <td>56829.306173</td>\n",
       "      <td>5082.66</td>\n",
       "      <td>760.41</td>\n",
       "      <td>132939.199042</td>\n",
       "      <td>10 Días por Año</td>\n",
       "      <td>45 Días por Año</td>\n",
       "    </tr>\n",
       "    <tr>\n",
       "      <td>2</td>\n",
       "      <td>19</td>\n",
       "      <td>NaN</td>\n",
       "      <td>DIRECTOR/A GENERAL PARAESTATAL A</td>\n",
       "      <td>40685.951590</td>\n",
       "      <td>5843.07</td>\n",
       "      <td>1913.1</td>\n",
       "      <td>18805</td>\n",
       "      <td>41397.705456</td>\n",
       "      <td>49230.82</td>\n",
       "      <td>157875.647046</td>\n",
       "      <td>43999.090596</td>\n",
       "      <td>5082.66</td>\n",
       "      <td>760.41</td>\n",
       "      <td>108033.486450</td>\n",
       "      <td>10 Días por Año</td>\n",
       "      <td>45 Días por Año</td>\n",
       "    </tr>\n",
       "    <tr>\n",
       "      <td>3</td>\n",
       "      <td>19</td>\n",
       "      <td>NaN</td>\n",
       "      <td>SECRETARIO/A DE ESTADO B</td>\n",
       "      <td>40685.951590</td>\n",
       "      <td>5843.07</td>\n",
       "      <td>1913.1</td>\n",
       "      <td>18805</td>\n",
       "      <td>41397.705456</td>\n",
       "      <td>49230.82</td>\n",
       "      <td>157875.647046</td>\n",
       "      <td>43999.090596</td>\n",
       "      <td>5082.66</td>\n",
       "      <td>760.41</td>\n",
       "      <td>108033.486450</td>\n",
       "      <td>10 Días por Año</td>\n",
       "      <td>45 Días por Año</td>\n",
       "    </tr>\n",
       "    <tr>\n",
       "      <td>4</td>\n",
       "      <td>18</td>\n",
       "      <td>NaN</td>\n",
       "      <td>SECRETARIO/A DE ESTADO C</td>\n",
       "      <td>37083.708634</td>\n",
       "      <td>5843.07</td>\n",
       "      <td>1913.1</td>\n",
       "      <td>16756</td>\n",
       "      <td>35924.238404</td>\n",
       "      <td>42651.90</td>\n",
       "      <td>140172.017038</td>\n",
       "      <td>37979.856393</td>\n",
       "      <td>5082.66</td>\n",
       "      <td>760.41</td>\n",
       "      <td>96349.090645</td>\n",
       "      <td>10 Días por Año</td>\n",
       "      <td>45 Días por Año</td>\n",
       "    </tr>\n",
       "  </tbody>\n",
       "</table>\n",
       "</div>"
      ],
      "text/plain": [
       "   NIVEL TIPO                            PUESTO   SUELDO BASE  \\\n",
       "0     22  NaN           GOBERNADOR/A DEL ESTADO  59804.327930   \n",
       "1     20  NaN          SECRETARIO/A DE ESTADO A  49025.945517   \n",
       "2     19  NaN  DIRECTOR/A GENERAL PARAESTATAL A  40685.951590   \n",
       "3     19  NaN          SECRETARIO/A DE ESTADO B  40685.951590   \n",
       "4     18  NaN          SECRETARIO/A DE ESTADO C  37083.708634   \n",
       "\n",
       "   CUOTAS SEGURIDAD SOCIAL  PREVISIÓN SOCIAL  AYUDA X SERVICIOS  \\\n",
       "0                  5843.07            1913.1              25897   \n",
       "1                  5843.07            1913.1              22783   \n",
       "2                  5843.07            1913.1              18805   \n",
       "3                  5843.07            1913.1              18805   \n",
       "4                  5843.07            1913.1              16756   \n",
       "\n",
       "   APOYO FAMILIAR  GRATIFICACIÓN QUINCENAL  SUELDO MENSUAL BRUTO  \\\n",
       "0    64294.837780                 75373.99         233126.325711   \n",
       "1    48858.839699                 67187.62         195611.575216   \n",
       "2    41397.705456                 49230.82         157875.647046   \n",
       "3    41397.705456                 49230.82         157875.647046   \n",
       "4    35924.238404                 42651.90         140172.017038   \n",
       "\n",
       "   IMPTO MENSUAL    ISSEG  ISSSTE  SUELDO MENSUAL NETO PRIMA VACACIONAL  \\\n",
       "0   69584.321342  5082.66  760.41        157698.934369  10 Días por Año   \n",
       "1   56829.306173  5082.66  760.41        132939.199042  10 Días por Año   \n",
       "2   43999.090596  5082.66  760.41        108033.486450  10 Días por Año   \n",
       "3   43999.090596  5082.66  760.41        108033.486450  10 Días por Año   \n",
       "4   37979.856393  5082.66  760.41         96349.090645  10 Días por Año   \n",
       "\n",
       "         AGUINALDO  \n",
       "0  45 Días por Año  \n",
       "1  45 Días por Año  \n",
       "2  45 Días por Año  \n",
       "3  45 Días por Año  \n",
       "4  45 Días por Año  "
      ]
     },
     "execution_count": 2,
     "metadata": {},
     "output_type": "execute_result"
    }
   ],
   "source": [
    "sueldos = pd.read_excel('tabulador_pe2019.xls', header = 9)\n",
    "sueldos.head()"
   ]
  },
  {
   "cell_type": "markdown",
   "metadata": {},
   "source": [
    "#### <strong>1. ¿Cuál es promedio de las contribuciones del sueldo de un trabajador en esta dependencia? </strong> "
   ]
  },
  {
   "cell_type": "code",
   "execution_count": 3,
   "metadata": {},
   "outputs": [
    {
     "data": {
      "text/plain": [
       "49467.37593510606"
      ]
     },
     "execution_count": 3,
     "metadata": {},
     "output_type": "execute_result"
    }
   ],
   "source": [
    "sueldos['SUELDO MENSUAL BRUTO'].mean()"
   ]
  },
  {
   "cell_type": "code",
   "execution_count": 4,
   "metadata": {},
   "outputs": [
    {
     "data": {
      "text/plain": [
       "35829.35357437967"
      ]
     },
     "execution_count": 4,
     "metadata": {},
     "output_type": "execute_result"
    }
   ],
   "source": [
    "sueldos['SUELDO MENSUAL NETO'].mean()"
   ]
  },
  {
   "cell_type": "markdown",
   "metadata": {},
   "source": [
    "#### <strong>2. Media y moda de las contribuciones del sueldo de un trabajador. Rango interquartil de la distribución.</strong> "
   ]
  },
  {
   "cell_type": "markdown",
   "metadata": {},
   "source": [
    "<strong>Moda</strong>"
   ]
  },
  {
   "cell_type": "code",
   "execution_count": 5,
   "metadata": {},
   "outputs": [
    {
     "data": {
      "text/plain": [
       "0     9783.850296\n",
       "1    11440.563407\n",
       "dtype: float64"
      ]
     },
     "execution_count": 5,
     "metadata": {},
     "output_type": "execute_result"
    }
   ],
   "source": [
    "sueldos['SUELDO MENSUAL BRUTO'].mode()"
   ]
  },
  {
   "cell_type": "code",
   "execution_count": 6,
   "metadata": {},
   "outputs": [
    {
     "data": {
      "text/plain": [
       "0    8294.835952\n",
       "1    9609.786902\n",
       "dtype: float64"
      ]
     },
     "execution_count": 6,
     "metadata": {},
     "output_type": "execute_result"
    }
   ],
   "source": [
    "sueldos['SUELDO MENSUAL NETO'].mode()"
   ]
  },
  {
   "cell_type": "markdown",
   "metadata": {},
   "source": [
    "<strong>Mediana</strong>"
   ]
  },
  {
   "cell_type": "code",
   "execution_count": 7,
   "metadata": {},
   "outputs": [
    {
     "data": {
      "text/plain": [
       "28148.204515722646"
      ]
     },
     "execution_count": 7,
     "metadata": {},
     "output_type": "execute_result"
    }
   ],
   "source": [
    "sueldos['SUELDO MENSUAL BRUTO'].median()"
   ]
  },
  {
   "cell_type": "code",
   "execution_count": 8,
   "metadata": {},
   "outputs": [
    {
     "data": {
      "text/plain": [
       "22078.22528193275"
      ]
     },
     "execution_count": 8,
     "metadata": {},
     "output_type": "execute_result"
    }
   ],
   "source": [
    "sueldos['SUELDO MENSUAL NETO'].median()"
   ]
  },
  {
   "cell_type": "markdown",
   "metadata": {},
   "source": [
    "<strong>Rangos intercuartiles</strong>"
   ]
  },
  {
   "cell_type": "code",
   "execution_count": 9,
   "metadata": {},
   "outputs": [
    {
     "data": {
      "text/plain": [
       "12353.567027836678"
      ]
     },
     "execution_count": 9,
     "metadata": {},
     "output_type": "execute_result"
    }
   ],
   "source": [
    "sueldos['SUELDO MENSUAL BRUTO'].quantile(0.25)"
   ]
  },
  {
   "cell_type": "code",
   "execution_count": 10,
   "metadata": {},
   "outputs": [
    {
     "data": {
      "text/plain": [
       "28148.204515722646"
      ]
     },
     "execution_count": 10,
     "metadata": {},
     "output_type": "execute_result"
    }
   ],
   "source": [
    "sueldos['SUELDO MENSUAL BRUTO'].quantile(0.5)"
   ]
  },
  {
   "cell_type": "code",
   "execution_count": 11,
   "metadata": {},
   "outputs": [
    {
     "data": {
      "text/plain": [
       "70240.8175237125"
      ]
     },
     "execution_count": 11,
     "metadata": {},
     "output_type": "execute_result"
    }
   ],
   "source": [
    "sueldos['SUELDO MENSUAL BRUTO'].quantile(0.75)"
   ]
  },
  {
   "cell_type": "markdown",
   "metadata": {},
   "source": [
    "En las tablas siguientes pueden observarse los datos mostrados anteriormente para el <strong>sueldo mensual bruto, sueldo mensual neto</strong>."
   ]
  },
  {
   "cell_type": "code",
   "execution_count": 12,
   "metadata": {},
   "outputs": [
    {
     "data": {
      "text/plain": [
       "count        79.000000\n",
       "mean      49467.375935\n",
       "std       48932.415025\n",
       "min        7616.508000\n",
       "25%       12353.567028\n",
       "50%       28148.204516\n",
       "75%       70240.817524\n",
       "max      233126.325711\n",
       "Name: SUELDO MENSUAL BRUTO, dtype: float64"
      ]
     },
     "execution_count": 12,
     "metadata": {},
     "output_type": "execute_result"
    }
   ],
   "source": [
    "sueldos.describe()['SUELDO MENSUAL BRUTO']"
   ]
  },
  {
   "cell_type": "code",
   "execution_count": 13,
   "metadata": {},
   "outputs": [
    {
     "data": {
      "text/plain": [
       "count        79.000000\n",
       "mean      35829.353574\n",
       "std       32902.782725\n",
       "min        6751.946368\n",
       "25%       10289.592141\n",
       "50%       22078.225282\n",
       "75%       50363.213596\n",
       "max      157698.934369\n",
       "Name: SUELDO MENSUAL NETO, dtype: float64"
      ]
     },
     "execution_count": 13,
     "metadata": {},
     "output_type": "execute_result"
    }
   ],
   "source": [
    "sueldos.describe()['SUELDO MENSUAL NETO']"
   ]
  },
  {
   "cell_type": "markdown",
   "metadata": {},
   "source": [
    "La línea siguiente no es parte de la información solicitada, únicamente es para agregar al reporte."
   ]
  },
  {
   "cell_type": "code",
   "execution_count": 14,
   "metadata": {},
   "outputs": [
    {
     "name": "stdout",
     "output_type": "stream",
     "text": [
      "\\begin{tabular}{lr}\n",
      "\\toprule\n",
      "{} &  SUELDO MENSUAL NETO \\\\\n",
      "\\midrule\n",
      "25\\% &         10289.592141 \\\\\n",
      "50\\% &         22078.225282 \\\\\n",
      "75\\% &         50363.213596 \\\\\n",
      "\\bottomrule\n",
      "\\end{tabular}\n",
      "\n"
     ]
    }
   ],
   "source": [
    "print(sueldos.describe()['SUELDO MENSUAL NETO'].loc['25%' : '75%'].to_latex())"
   ]
  },
  {
   "cell_type": "markdown",
   "metadata": {},
   "source": [
    "#### <strong>3. ¿Cuál es la dispersión de sueldos?</strong> "
   ]
  },
  {
   "cell_type": "markdown",
   "metadata": {},
   "source": [
    "Para el <strong>sueldo mensual neto,</strong> que es el que resulta relevante para el análisis se obtuvo la siguiente dispersión en el sueldo."
   ]
  },
  {
   "cell_type": "code",
   "execution_count": 15,
   "metadata": {},
   "outputs": [
    {
     "data": {
      "image/png": "[encoded data removed]",
      "text/plain": [
       "<Figure size 432x288 with 1 Axes>"
      ]
     },
     "metadata": {
      "needs_background": "light"
     },
     "output_type": "display_data"
    }
   ],
   "source": [
    "plt.hist(sueldos['SUELDO MENSUAL NETO'], bins = 20, alpha = 0.6, color = 'red')\n",
    "plt.title('Dispersión de sueldos')\n",
    "plt.xlabel('Sueldo ($)')\n",
    "plt.ylabel('Frecuencia')\n",
    "plt.savefig('Dispersion.png')\n",
    "plt.show()"
   ]
  },
  {
   "cell_type": "markdown",
   "metadata": {},
   "source": [
    "Compare las siguientes magnitudes:"
   ]
  },
  {
   "cell_type": "code",
   "execution_count": 16,
   "metadata": {},
   "outputs": [
    {
     "data": {
      "text/html": [
       "<div>\n",
       "<style scoped>\n",
       "    .dataframe tbody tr th:only-of-type {\n",
       "        vertical-align: middle;\n",
       "    }\n",
       "\n",
       "    .dataframe tbody tr th {\n",
       "        vertical-align: top;\n",
       "    }\n",
       "\n",
       "    .dataframe thead th {\n",
       "        text-align: right;\n",
       "    }\n",
       "</style>\n",
       "<table border=\"1\" class=\"dataframe\">\n",
       "  <thead>\n",
       "    <tr style=\"text-align: right;\">\n",
       "      <th></th>\n",
       "      <th>Media</th>\n",
       "      <th>Mediana</th>\n",
       "      <th>Moda</th>\n",
       "    </tr>\n",
       "  </thead>\n",
       "  <tbody>\n",
       "    <tr>\n",
       "      <td>0</td>\n",
       "      <td>35829.353574</td>\n",
       "      <td>22078.225282</td>\n",
       "      <td>8294.835952</td>\n",
       "    </tr>\n",
       "    <tr>\n",
       "      <td>1</td>\n",
       "      <td>35829.353574</td>\n",
       "      <td>22078.225282</td>\n",
       "      <td>9609.786902</td>\n",
       "    </tr>\n",
       "  </tbody>\n",
       "</table>\n",
       "</div>"
      ],
      "text/plain": [
       "          Media       Mediana         Moda\n",
       "0  35829.353574  22078.225282  8294.835952\n",
       "1  35829.353574  22078.225282  9609.786902"
      ]
     },
     "execution_count": 16,
     "metadata": {},
     "output_type": "execute_result"
    }
   ],
   "source": [
    "media = sueldos['SUELDO MENSUAL NETO'].mean()\n",
    "mediana = sueldos['SUELDO MENSUAL NETO'].median()\n",
    "moda = sueldos['SUELDO MENSUAL NETO'].mode()\n",
    "\n",
    "m = pd.DataFrame({'Media' : media, 'Mediana' : mediana, 'Moda' : moda})\n",
    "m"
   ]
  },
  {
   "cell_type": "markdown",
   "metadata": {},
   "source": [
    "Observe que existen <strong>dos valores con mayor frecuencia</strong>, y claramente sólo existe <strong>mediana, media</strong>. Por la posición en la que se encuentra cada valor, se considera conveniente analizar la dispersión respecto a la mediana por lo que se muestra a continuación una diferencia entre cada uno de los sueldos y la mediana $(\\tilde{x})$; $\\delta x = \\mid sueldo$ $mensual$ $neto$ $- \\tilde{x} \\mid$."
   ]
  },
  {
   "cell_type": "code",
   "execution_count": 17,
   "metadata": {},
   "outputs": [
    {
     "data": {
      "text/html": [
       "<div>\n",
       "<style scoped>\n",
       "    .dataframe tbody tr th:only-of-type {\n",
       "        vertical-align: middle;\n",
       "    }\n",
       "\n",
       "    .dataframe tbody tr th {\n",
       "        vertical-align: top;\n",
       "    }\n",
       "\n",
       "    .dataframe thead th {\n",
       "        text-align: right;\n",
       "    }\n",
       "</style>\n",
       "<table border=\"1\" class=\"dataframe\">\n",
       "  <thead>\n",
       "    <tr style=\"text-align: right;\">\n",
       "      <th></th>\n",
       "      <th>Puesto</th>\n",
       "      <th>SUELDO MENSUAL NETO</th>\n",
       "      <th>$\\delta x$</th>\n",
       "    </tr>\n",
       "  </thead>\n",
       "  <tbody>\n",
       "    <tr>\n",
       "      <td>0</td>\n",
       "      <td>GOBERNADOR/A DEL ESTADO</td>\n",
       "      <td>157698.934369</td>\n",
       "      <td>135620.709087</td>\n",
       "    </tr>\n",
       "    <tr>\n",
       "      <td>1</td>\n",
       "      <td>SECRETARIO/A DE ESTADO A</td>\n",
       "      <td>132939.199042</td>\n",
       "      <td>110860.973760</td>\n",
       "    </tr>\n",
       "    <tr>\n",
       "      <td>2</td>\n",
       "      <td>DIRECTOR/A GENERAL PARAESTATAL A</td>\n",
       "      <td>108033.486450</td>\n",
       "      <td>85955.261168</td>\n",
       "    </tr>\n",
       "    <tr>\n",
       "      <td>3</td>\n",
       "      <td>SECRETARIO/A DE ESTADO B</td>\n",
       "      <td>108033.486450</td>\n",
       "      <td>85955.261168</td>\n",
       "    </tr>\n",
       "    <tr>\n",
       "      <td>4</td>\n",
       "      <td>SECRETARIO/A DE ESTADO C</td>\n",
       "      <td>96349.090645</td>\n",
       "      <td>74270.865363</td>\n",
       "    </tr>\n",
       "  </tbody>\n",
       "</table>\n",
       "</div>"
      ],
      "text/plain": [
       "                             Puesto  SUELDO MENSUAL NETO     $\\delta x$\n",
       "0           GOBERNADOR/A DEL ESTADO        157698.934369  135620.709087\n",
       "1          SECRETARIO/A DE ESTADO A        132939.199042  110860.973760\n",
       "2  DIRECTOR/A GENERAL PARAESTATAL A        108033.486450   85955.261168\n",
       "3          SECRETARIO/A DE ESTADO B        108033.486450   85955.261168\n",
       "4          SECRETARIO/A DE ESTADO C         96349.090645   74270.865363"
      ]
     },
     "execution_count": 17,
     "metadata": {},
     "output_type": "execute_result"
    }
   ],
   "source": [
    "#Dispersión con respecto a la mediana.\n",
    "x = pd.DataFrame({'Puesto' : sueldos['PUESTO'], 'SUELDO MENSUAL NETO' : sueldos['SUELDO MENSUAL NETO'], '$\\delta x$' : np.abs(sueldos['SUELDO MENSUAL NETO'] - mediana)})\n",
    "x.head()"
   ]
  },
  {
   "cell_type": "markdown",
   "metadata": {},
   "source": [
    "Para observar la dispersión, se consideran nuevamente los cuartiles. Ésto sirve porque a partir del valor de la media, se pueden realizar conclusiones acerca de los sueldos.\n",
    "\n",
    "<o1 >\n",
    "<li>>> Hasta el <strong>25%</strong> de los trabajadores tiene el primer sueldos,</li>\n",
    "<li>>> hasta el <strong>50%</strong> tiene el segundo sueldo y</li>\n",
    "<li>>> hasta el <strong>75%</strong> tiene el tercer sueldo.</li>\n",
    "</o1>"
   ]
  },
  {
   "cell_type": "code",
   "execution_count": 18,
   "metadata": {},
   "outputs": [
    {
     "data": {
      "text/plain": [
       "25%    10289.592141\n",
       "50%    22078.225282\n",
       "75%    50363.213596\n",
       "Name: SUELDO MENSUAL NETO, dtype: float64"
      ]
     },
     "execution_count": 18,
     "metadata": {},
     "output_type": "execute_result"
    }
   ],
   "source": [
    "sueldos['SUELDO MENSUAL NETO'].describe()['25%' : '75%']"
   ]
  },
  {
   "cell_type": "markdown",
   "metadata": {},
   "source": [
    "Una forma de representar los datos haciendo uso únicamente de los cuartiles:"
   ]
  },
  {
   "cell_type": "code",
   "execution_count": 19,
   "metadata": {},
   "outputs": [
    {
     "data": {
      "image/png": "[encoded data removed]",
      "text/plain": [
       "<Figure size 432x288 with 1 Axes>"
      ]
     },
     "metadata": {
      "needs_background": "light"
     },
     "output_type": "display_data"
    },
    {
     "name": "stdout",
     "output_type": "stream",
     "text": [
      "CUARTIL 1: Número de trabajadores con menor sueldo a  10289.592141252884 :  22\n",
      "CUARTIL 2: Número de trabajadores con sueldo entre [ 10289.592141252884 ,  22078.22528193275 ]:  19\n",
      "CUARTIL 3: Número de trabajadores con sueldo entre [ 22078.22528193275 ,  50363.2135957455 ]:  20\n",
      "CUARTIL 4: Número de trabajadores con sueldo mayor a  50363.2135957455 :  18\n"
     ]
    }
   ],
   "source": [
    "bin1 = sueldos[sueldos['SUELDO MENSUAL NETO'] <= sueldos['SUELDO MENSUAL NETO'].quantile(.25)]\n",
    "bin2 = sueldos[(sueldos['SUELDO MENSUAL NETO'] <= sueldos['SUELDO MENSUAL NETO'].quantile(.5)) & \n",
    "               (sueldos['SUELDO MENSUAL NETO'] > sueldos['SUELDO MENSUAL NETO'].quantile(.25))]\n",
    "bin3 = sueldos[(sueldos['SUELDO MENSUAL NETO'] <= sueldos['SUELDO MENSUAL NETO'].quantile(.75)) & \n",
    "               (sueldos['SUELDO MENSUAL NETO'] > sueldos['SUELDO MENSUAL NETO'].quantile(.5))]\n",
    "bin4 = sueldos[sueldos['SUELDO MENSUAL NETO'] > sueldos['SUELDO MENSUAL NETO'].quantile(.75)]\n",
    "\n",
    "plt.hist(bin1['SUELDO MENSUAL NETO'], bins = 1, color = 'blue', alpha = 0.6)\n",
    "plt.hist(bin2['SUELDO MENSUAL NETO'], bins = 1, color = 'purple', alpha = 0.6)\n",
    "plt.hist(bin3['SUELDO MENSUAL NETO'], bins = 1, color = 'red', alpha = 0.6)\n",
    "plt.hist(bin4['SUELDO MENSUAL NETO'], bins = 1, color = 'yellow', alpha = 0.6)\n",
    "plt.title('Cuartiles')\n",
    "plt.xlabel('Sueldo ($)')\n",
    "plt.ylabel('Frecuencia')\n",
    "plt.savefig('Cuartiles.png')\n",
    "plt.show()\n",
    "print('CUARTIL 1: Número de trabajadores con menor sueldo a ', sueldos['SUELDO MENSUAL NETO'].quantile(.25), ': ', len(bin1['SUELDO MENSUAL NETO']))\n",
    "print('CUARTIL 2: Número de trabajadores con sueldo entre [', sueldos['SUELDO MENSUAL NETO'].quantile(.25), ', ', sueldos['SUELDO MENSUAL NETO'].quantile(.5), ']: ', len(bin2['SUELDO MENSUAL NETO']))\n",
    "print('CUARTIL 3: Número de trabajadores con sueldo entre [', sueldos['SUELDO MENSUAL NETO'].quantile(.5), ', ', sueldos['SUELDO MENSUAL NETO'].quantile(.75), ']: ', len(bin3['SUELDO MENSUAL NETO']))\n",
    "print('CUARTIL 4: Número de trabajadores con sueldo mayor a ', sueldos['SUELDO MENSUAL NETO'].quantile(.75), ': ', len(bin4['SUELDO MENSUAL NETO']))"
   ]
  },
  {
   "cell_type": "markdown",
   "metadata": {},
   "source": [
    "Respecto a $\\tilde{x}$, $\\sigma, 2 \\sigma$:"
   ]
  },
  {
   "cell_type": "code",
   "execution_count": 28,
   "metadata": {},
   "outputs": [
    {
     "data": {
      "image/png": "[encoded data removed]",
      "text/plain": [
       "<Figure size 432x288 with 1 Axes>"
      ]
     },
     "metadata": {
      "needs_background": "light"
     },
     "output_type": "display_data"
    }
   ],
   "source": [
    "sig1_1 = sueldos['SUELDO MENSUAL NETO'].quantile(.16)\n",
    "sig1_2 = sueldos['SUELDO MENSUAL NETO'].quantile(.84)\n",
    "sig2_1 = sueldos['SUELDO MENSUAL NETO'].quantile(0.02)\n",
    "sig2_2 = sueldos['SUELDO MENSUAL NETO'].quantile(.977)\n",
    "sig3_1 = sueldos['SUELDO MENSUAL NETO'].quantile(1)\n",
    "\n",
    "plt.hist(sueldos['SUELDO MENSUAL NETO'], bins = 1, range = [0, sig2_1], color = 'purple', alpha = 0.6, label = '$1 - 2\\sigma$')\n",
    "plt.hist(sueldos['SUELDO MENSUAL NETO'], bins = 1, range = [sig2_1, sig1_1], color = 'yellow', alpha = 0.6, label = '$2 \\sigma$')\n",
    "plt.hist(sueldos['SUELDO MENSUAL NETO'], bins = 1, range = [sig1_1, sig1_2], color = 'red', alpha = 0.6, label = '$\\sigma$')\n",
    "plt.hist(sueldos['SUELDO MENSUAL NETO'], bins = 1, range = [sig1_2, sig2_2], color = 'yellow', alpha = 0.6)\n",
    "plt.hist(sueldos['SUELDO MENSUAL NETO'], bins = 1, range = [sig2_2, sig3_1], color = 'purple', alpha = 0.6)\n",
    "plt.axvline(mediana, label = 'Mediana')\n",
    "plt.title('Desviación estándar')\n",
    "plt.xlabel('Sueldo ($)')\n",
    "plt.ylabel('Frecuencia')\n",
    "plt.legend(frameon = True)\n",
    "plt.savefig('Sigma.png')\n",
    "plt.show()"
   ]
  },
  {
   "cell_type": "markdown",
   "metadata": {},
   "source": [
    "#### <strong>4. ¿Cuál es el sueldo base máximo?</strong>"
   ]
  },
  {
   "cell_type": "markdown",
   "metadata": {},
   "source": [
    "Considerando el <strong>sueldo mensual neto,</strong> que es el que reciben los trabajadores:"
   ]
  },
  {
   "cell_type": "code",
   "execution_count": 89,
   "metadata": {},
   "outputs": [
    {
     "data": {
      "text/plain": [
       "157698.9343690769"
      ]
     },
     "execution_count": 89,
     "metadata": {},
     "output_type": "execute_result"
    }
   ],
   "source": [
    "#Trabajando con el sueldo mensual neto:\n",
    "sueldos['SUELDO MENSUAL NETO'].max()"
   ]
  },
  {
   "cell_type": "markdown",
   "metadata": {},
   "source": [
    "#### <strong>5. ¿Cuál es el sueldo base mínimo?</strong>"
   ]
  },
  {
   "cell_type": "markdown",
   "metadata": {},
   "source": [
    "Considerando el <strong>sueldo mensual neto,</strong> que es el que reciben los trabajadores:"
   ]
  },
  {
   "cell_type": "code",
   "execution_count": 90,
   "metadata": {},
   "outputs": [
    {
     "data": {
      "text/plain": [
       "6751.946368"
      ]
     },
     "execution_count": 90,
     "metadata": {},
     "output_type": "execute_result"
    }
   ],
   "source": [
    "#Trabajando con el sueldo mensual neto:\n",
    "sueldos['SUELDO MENSUAL NETO'].min()"
   ]
  },
  {
   "cell_type": "markdown",
   "metadata": {},
   "source": [
    "#### <strong>6. Porcentaje relativo de cada una de las componentes del sueldo mensual neto en cada uno de los puestos </strong>"
   ]
  },
  {
   "cell_type": "code",
   "execution_count": 49,
   "metadata": {},
   "outputs": [
    {
     "data": {
      "text/plain": [
       "Index(['NIVEL', 'TIPO', 'PUESTO', 'SUELDO BASE', 'CUOTAS SEGURIDAD SOCIAL',\n",
       "       'PREVISIÓN SOCIAL', 'AYUDA X SERVICIOS', 'APOYO FAMILIAR',\n",
       "       'GRATIFICACIÓN QUINCENAL', 'SUELDO MENSUAL BRUTO', 'IMPTO MENSUAL',\n",
       "       'ISSEG', 'ISSSTE', 'SUELDO MENSUAL NETO', 'PRIMA VACACIONAL',\n",
       "       'AGUINALDO'],\n",
       "      dtype='object')"
      ]
     },
     "execution_count": 49,
     "metadata": {},
     "output_type": "execute_result"
    }
   ],
   "source": [
    "sueldos.keys()"
   ]
  },
  {
   "cell_type": "markdown",
   "metadata": {},
   "source": [
    "A continuación se muestran los porcentajes de cada uno de los puestos con respecto al <strong>sueldo mensual neto</strong>."
   ]
  },
  {
   "cell_type": "code",
   "execution_count": 65,
   "metadata": {},
   "outputs": [
    {
     "data": {
      "text/html": [
       "<div>\n",
       "<style scoped>\n",
       "    .dataframe tbody tr th:only-of-type {\n",
       "        vertical-align: middle;\n",
       "    }\n",
       "\n",
       "    .dataframe tbody tr th {\n",
       "        vertical-align: top;\n",
       "    }\n",
       "\n",
       "    .dataframe thead th {\n",
       "        text-align: right;\n",
       "    }\n",
       "</style>\n",
       "<table border=\"1\" class=\"dataframe\">\n",
       "  <thead>\n",
       "    <tr style=\"text-align: right;\">\n",
       "      <th></th>\n",
       "      <th>PUESTO</th>\n",
       "      <th>SUELDO BASE</th>\n",
       "      <th>CUOTAS SEGURIDAD SOCIAL</th>\n",
       "      <th>PREVISIÓN SOCIAL</th>\n",
       "      <th>AYUDA X SERVICIOS</th>\n",
       "      <th>APOYO FAMILIAR</th>\n",
       "      <th>GRATIFICACIÓN QUINCENAL</th>\n",
       "      <th>SUELDO MENSUAL BRUTO</th>\n",
       "      <th>IMPTO MENSUAL</th>\n",
       "      <th>ISSEG</th>\n",
       "      <th>ISSSTE</th>\n",
       "    </tr>\n",
       "  </thead>\n",
       "  <tbody>\n",
       "    <tr>\n",
       "      <td>0</td>\n",
       "      <td>GOBERNADOR/A DEL ESTADO</td>\n",
       "      <td>0.379231</td>\n",
       "      <td>0.037052</td>\n",
       "      <td>0.012131</td>\n",
       "      <td>0.164218</td>\n",
       "      <td>0.407706</td>\n",
       "      <td>0.477961</td>\n",
       "      <td>1.478300</td>\n",
       "      <td>0.441248</td>\n",
       "      <td>0.032230</td>\n",
       "      <td>0.004822</td>\n",
       "    </tr>\n",
       "    <tr>\n",
       "      <td>1</td>\n",
       "      <td>SECRETARIO/A DE ESTADO A</td>\n",
       "      <td>0.368785</td>\n",
       "      <td>0.043953</td>\n",
       "      <td>0.014391</td>\n",
       "      <td>0.171379</td>\n",
       "      <td>0.367528</td>\n",
       "      <td>0.505401</td>\n",
       "      <td>1.471436</td>\n",
       "      <td>0.427483</td>\n",
       "      <td>0.038233</td>\n",
       "      <td>0.005720</td>\n",
       "    </tr>\n",
       "    <tr>\n",
       "      <td>2</td>\n",
       "      <td>DIRECTOR/A GENERAL PARAESTATAL A</td>\n",
       "      <td>0.376605</td>\n",
       "      <td>0.054086</td>\n",
       "      <td>0.017708</td>\n",
       "      <td>0.174066</td>\n",
       "      <td>0.383193</td>\n",
       "      <td>0.455700</td>\n",
       "      <td>1.461358</td>\n",
       "      <td>0.407273</td>\n",
       "      <td>0.047047</td>\n",
       "      <td>0.007039</td>\n",
       "    </tr>\n",
       "    <tr>\n",
       "      <td>3</td>\n",
       "      <td>SECRETARIO/A DE ESTADO B</td>\n",
       "      <td>0.376605</td>\n",
       "      <td>0.054086</td>\n",
       "      <td>0.017708</td>\n",
       "      <td>0.174066</td>\n",
       "      <td>0.383193</td>\n",
       "      <td>0.455700</td>\n",
       "      <td>1.461358</td>\n",
       "      <td>0.407273</td>\n",
       "      <td>0.047047</td>\n",
       "      <td>0.007039</td>\n",
       "    </tr>\n",
       "    <tr>\n",
       "      <td>4</td>\n",
       "      <td>SECRETARIO/A DE ESTADO C</td>\n",
       "      <td>0.384889</td>\n",
       "      <td>0.060645</td>\n",
       "      <td>0.019856</td>\n",
       "      <td>0.173909</td>\n",
       "      <td>0.372855</td>\n",
       "      <td>0.442681</td>\n",
       "      <td>1.454835</td>\n",
       "      <td>0.394190</td>\n",
       "      <td>0.052753</td>\n",
       "      <td>0.007892</td>\n",
       "    </tr>\n",
       "  </tbody>\n",
       "</table>\n",
       "</div>"
      ],
      "text/plain": [
       "                             PUESTO  SUELDO BASE  CUOTAS SEGURIDAD SOCIAL  \\\n",
       "0           GOBERNADOR/A DEL ESTADO     0.379231                 0.037052   \n",
       "1          SECRETARIO/A DE ESTADO A     0.368785                 0.043953   \n",
       "2  DIRECTOR/A GENERAL PARAESTATAL A     0.376605                 0.054086   \n",
       "3          SECRETARIO/A DE ESTADO B     0.376605                 0.054086   \n",
       "4          SECRETARIO/A DE ESTADO C     0.384889                 0.060645   \n",
       "\n",
       "   PREVISIÓN SOCIAL  AYUDA X SERVICIOS  APOYO FAMILIAR  \\\n",
       "0          0.012131           0.164218        0.407706   \n",
       "1          0.014391           0.171379        0.367528   \n",
       "2          0.017708           0.174066        0.383193   \n",
       "3          0.017708           0.174066        0.383193   \n",
       "4          0.019856           0.173909        0.372855   \n",
       "\n",
       "   GRATIFICACIÓN QUINCENAL  SUELDO MENSUAL BRUTO  IMPTO MENSUAL     ISSEG  \\\n",
       "0                 0.477961              1.478300       0.441248  0.032230   \n",
       "1                 0.505401              1.471436       0.427483  0.038233   \n",
       "2                 0.455700              1.461358       0.407273  0.047047   \n",
       "3                 0.455700              1.461358       0.407273  0.047047   \n",
       "4                 0.442681              1.454835       0.394190  0.052753   \n",
       "\n",
       "     ISSSTE  \n",
       "0  0.004822  \n",
       "1  0.005720  \n",
       "2  0.007039  \n",
       "3  0.007039  \n",
       "4  0.007892  "
      ]
     },
     "execution_count": 65,
     "metadata": {},
     "output_type": "execute_result"
    }
   ],
   "source": [
    "#Pendiente\n",
    "p = ['PUESTO', 'SUELDO BASE', 'CUOTAS SEGURIDAD SOCIAL', 'PREVISIÓN SOCIAL', 'AYUDA X SERVICIOS',\n",
    "            'APOYO FAMILIAR', 'GRATIFICACIÓN QUINCENAL', 'SUELDO MENSUAL BRUTO', 'IMPTO MENSUAL', 'ISSEG',\n",
    "            'ISSSTE', 'SUELDO MENSUAL NETO']\n",
    "Porcentaje = pd.DataFrame({'PUESTO' : sueldos[p[0]]})\n",
    "\n",
    "#No es posible realizar la acción siguiente con un ciclo.\n",
    "Porcentaje[p[1]] = sueldos[p[1]] / sueldos[p[11]]\n",
    "Porcentaje[p[2]] = sueldos[p[2]] / sueldos[p[11]]\n",
    "Porcentaje[p[3]] = sueldos[p[3]] / sueldos[p[11]]\n",
    "Porcentaje[p[4]] = sueldos[p[4]] / sueldos[p[11]]\n",
    "Porcentaje[p[5]] = sueldos[p[5]] / sueldos[p[11]]\n",
    "Porcentaje[p[6]] = sueldos[p[6]] / sueldos[p[11]]\n",
    "Porcentaje[p[7]] = sueldos[p[7]] / sueldos[p[11]]\n",
    "Porcentaje[p[8]] = sueldos[p[8]] / sueldos[p[11]]\n",
    "Porcentaje[p[9]] = sueldos[p[9]] / sueldos[p[11]]\n",
    "Porcentaje[p[10]] = sueldos[p[10]] / sueldos[p[11]]\n",
    "\n",
    "Porcentaje.head()"
   ]
  },
  {
   "cell_type": "markdown",
   "metadata": {},
   "source": [
    "#### <strong>7. ¿De cuánto dinero es la diferencia entre el sueldo neto mayor (gobernador del estado) y el sueldo de otros empleados (por ejemplo, alguien de nivel 1, que es el nivel más bajo en la tabla)?</strong>"
   ]
  },
  {
   "cell_type": "code",
   "execution_count": 7,
   "metadata": {},
   "outputs": [
    {
     "data": {
      "text/html": [
       "<div>\n",
       "<style scoped>\n",
       "    .dataframe tbody tr th:only-of-type {\n",
       "        vertical-align: middle;\n",
       "    }\n",
       "\n",
       "    .dataframe tbody tr th {\n",
       "        vertical-align: top;\n",
       "    }\n",
       "\n",
       "    .dataframe thead th {\n",
       "        text-align: right;\n",
       "    }\n",
       "</style>\n",
       "<table border=\"1\" class=\"dataframe\">\n",
       "  <thead>\n",
       "    <tr style=\"text-align: right;\">\n",
       "      <th></th>\n",
       "      <th>Puesto</th>\n",
       "      <th>Diferencia</th>\n",
       "    </tr>\n",
       "  </thead>\n",
       "  <tbody>\n",
       "    <tr>\n",
       "      <th>0</th>\n",
       "      <td>GOBERNADOR/A DEL ESTADO</td>\n",
       "      <td>0.000000</td>\n",
       "    </tr>\n",
       "    <tr>\n",
       "      <th>1</th>\n",
       "      <td>SECRETARIO/A DE ESTADO A</td>\n",
       "      <td>24759.735327</td>\n",
       "    </tr>\n",
       "    <tr>\n",
       "      <th>2</th>\n",
       "      <td>DIRECTOR/A GENERAL PARAESTATAL A</td>\n",
       "      <td>49665.447919</td>\n",
       "    </tr>\n",
       "    <tr>\n",
       "      <th>3</th>\n",
       "      <td>SECRETARIO/A DE ESTADO B</td>\n",
       "      <td>49665.447919</td>\n",
       "    </tr>\n",
       "    <tr>\n",
       "      <th>4</th>\n",
       "      <td>SECRETARIO/A DE ESTADO C</td>\n",
       "      <td>61349.843724</td>\n",
       "    </tr>\n",
       "  </tbody>\n",
       "</table>\n",
       "</div>"
      ],
      "text/plain": [
       "                             Puesto    Diferencia\n",
       "0           GOBERNADOR/A DEL ESTADO      0.000000\n",
       "1          SECRETARIO/A DE ESTADO A  24759.735327\n",
       "2  DIRECTOR/A GENERAL PARAESTATAL A  49665.447919\n",
       "3          SECRETARIO/A DE ESTADO B  49665.447919\n",
       "4          SECRETARIO/A DE ESTADO C  61349.843724"
      ]
     },
     "execution_count": 7,
     "metadata": {},
     "output_type": "execute_result"
    }
   ],
   "source": [
    "Diferencia = pd.DataFrame({\"Puesto\" : sueldos['PUESTO'], \"Diferencia\" : \n",
    "                           np.abs(sueldos['SUELDO MENSUAL NETO'] - sueldos['SUELDO MENSUAL NETO'].max())})\n",
    "Diferencia.head()"
   ]
  },
  {
   "cell_type": "markdown",
   "metadata": {},
   "source": [
    "#### <strong>8. ¿Qué porcentaje se da de apoyo en sus diferentes modalidades para cada uno? </strong>"
   ]
  },
  {
   "cell_type": "markdown",
   "metadata": {},
   "source": [
    "Considerando apoyos las columnas <strong>CUOTAS SEGURIDAD SOCIAL, PREVISIÓN SOCIAL, AYUDA X SERVICIOS, APOYO FAMILIAR y GRATIFICACIÓN QUINCENAL,</strong> se tiene lo siguiente:"
   ]
  },
  {
   "cell_type": "code",
   "execution_count": 30,
   "metadata": {},
   "outputs": [
    {
     "data": {
      "text/html": [
       "<div>\n",
       "<style scoped>\n",
       "    .dataframe tbody tr th:only-of-type {\n",
       "        vertical-align: middle;\n",
       "    }\n",
       "\n",
       "    .dataframe tbody tr th {\n",
       "        vertical-align: top;\n",
       "    }\n",
       "\n",
       "    .dataframe thead th {\n",
       "        text-align: right;\n",
       "    }\n",
       "</style>\n",
       "<table border=\"1\" class=\"dataframe\">\n",
       "  <thead>\n",
       "    <tr style=\"text-align: right;\">\n",
       "      <th></th>\n",
       "      <th>Puesto</th>\n",
       "      <th>Sueldo mensual neto</th>\n",
       "      <th>Apoyos</th>\n",
       "      <th>Porcentaje</th>\n",
       "    </tr>\n",
       "  </thead>\n",
       "  <tbody>\n",
       "    <tr>\n",
       "      <td>0</td>\n",
       "      <td>GOBERNADOR/A DEL ESTADO</td>\n",
       "      <td>157698.934369</td>\n",
       "      <td>173321.997780</td>\n",
       "      <td>0.062613</td>\n",
       "    </tr>\n",
       "    <tr>\n",
       "      <td>1</td>\n",
       "      <td>SECRETARIO/A DE ESTADO A</td>\n",
       "      <td>132939.199042</td>\n",
       "      <td>146585.629699</td>\n",
       "      <td>0.052954</td>\n",
       "    </tr>\n",
       "    <tr>\n",
       "      <td>2</td>\n",
       "      <td>DIRECTOR/A GENERAL PARAESTATAL A</td>\n",
       "      <td>108033.486450</td>\n",
       "      <td>117189.695456</td>\n",
       "      <td>0.042335</td>\n",
       "    </tr>\n",
       "    <tr>\n",
       "      <td>3</td>\n",
       "      <td>SECRETARIO/A DE ESTADO B</td>\n",
       "      <td>108033.486450</td>\n",
       "      <td>117189.695456</td>\n",
       "      <td>0.042335</td>\n",
       "    </tr>\n",
       "    <tr>\n",
       "      <td>4</td>\n",
       "      <td>SECRETARIO/A DE ESTADO C</td>\n",
       "      <td>96349.090645</td>\n",
       "      <td>103088.308404</td>\n",
       "      <td>0.037241</td>\n",
       "    </tr>\n",
       "  </tbody>\n",
       "</table>\n",
       "</div>"
      ],
      "text/plain": [
       "                             Puesto  Sueldo mensual neto         Apoyos  \\\n",
       "0           GOBERNADOR/A DEL ESTADO        157698.934369  173321.997780   \n",
       "1          SECRETARIO/A DE ESTADO A        132939.199042  146585.629699   \n",
       "2  DIRECTOR/A GENERAL PARAESTATAL A        108033.486450  117189.695456   \n",
       "3          SECRETARIO/A DE ESTADO B        108033.486450  117189.695456   \n",
       "4          SECRETARIO/A DE ESTADO C         96349.090645  103088.308404   \n",
       "\n",
       "   Porcentaje  \n",
       "0    0.062613  \n",
       "1    0.052954  \n",
       "2    0.042335  \n",
       "3    0.042335  \n",
       "4    0.037241  "
      ]
     },
     "execution_count": 30,
     "metadata": {},
     "output_type": "execute_result"
    }
   ],
   "source": [
    "apoyos = sueldos['CUOTAS SEGURIDAD SOCIAL'] + sueldos['PREVISIÓN SOCIAL'] + sueldos['AYUDA X SERVICIOS'] + sueldos['APOYO FAMILIAR'] + sueldos['GRATIFICACIÓN QUINCENAL']\n",
    "\n",
    "Apoyo = pd.DataFrame({\"Puesto\" : sueldos['PUESTO'], \"Sueldo mensual neto\" : sueldos['SUELDO MENSUAL NETO'], \n",
    "                      \"Apoyos\" : apoyos, \"Porcentaje\" : apoyos / sum(apoyos)})\n",
    "Apoyo.head()"
   ]
  },
  {
   "cell_type": "markdown",
   "metadata": {},
   "source": [
    "#### <strong>9. ¿Cuánto dinero es utilizado en ISSSTE entre todos los puestos?</strong>"
   ]
  },
  {
   "cell_type": "code",
   "execution_count": 31,
   "metadata": {},
   "outputs": [
    {
     "data": {
      "text/plain": [
       "201533.50335585803"
      ]
     },
     "execution_count": 31,
     "metadata": {},
     "output_type": "execute_result"
    }
   ],
   "source": [
    "sueldos['ISSSTE'].sum() + sueldos['ISSEG'].sum()"
   ]
  },
  {
   "cell_type": "markdown",
   "metadata": {},
   "source": [
    "El porcentaje de recursos invertido en cada puesto es:"
   ]
  },
  {
   "cell_type": "code",
   "execution_count": 33,
   "metadata": {},
   "outputs": [
    {
     "data": {
      "text/html": [
       "<div>\n",
       "<style scoped>\n",
       "    .dataframe tbody tr th:only-of-type {\n",
       "        vertical-align: middle;\n",
       "    }\n",
       "\n",
       "    .dataframe tbody tr th {\n",
       "        vertical-align: top;\n",
       "    }\n",
       "\n",
       "    .dataframe thead th {\n",
       "        text-align: right;\n",
       "    }\n",
       "</style>\n",
       "<table border=\"1\" class=\"dataframe\">\n",
       "  <thead>\n",
       "    <tr style=\"text-align: right;\">\n",
       "      <th></th>\n",
       "      <th>Puesto</th>\n",
       "      <th>ISSSTE</th>\n",
       "      <th>Porcentaje</th>\n",
       "    </tr>\n",
       "  </thead>\n",
       "  <tbody>\n",
       "    <tr>\n",
       "      <td>0</td>\n",
       "      <td>GOBERNADOR/A DEL ESTADO</td>\n",
       "      <td>760.41</td>\n",
       "      <td>0.025854</td>\n",
       "    </tr>\n",
       "    <tr>\n",
       "      <td>1</td>\n",
       "      <td>SECRETARIO/A DE ESTADO A</td>\n",
       "      <td>760.41</td>\n",
       "      <td>0.025854</td>\n",
       "    </tr>\n",
       "    <tr>\n",
       "      <td>2</td>\n",
       "      <td>DIRECTOR/A GENERAL PARAESTATAL A</td>\n",
       "      <td>760.41</td>\n",
       "      <td>0.025854</td>\n",
       "    </tr>\n",
       "    <tr>\n",
       "      <td>3</td>\n",
       "      <td>SECRETARIO/A DE ESTADO B</td>\n",
       "      <td>760.41</td>\n",
       "      <td>0.025854</td>\n",
       "    </tr>\n",
       "    <tr>\n",
       "      <td>4</td>\n",
       "      <td>SECRETARIO/A DE ESTADO C</td>\n",
       "      <td>760.41</td>\n",
       "      <td>0.025854</td>\n",
       "    </tr>\n",
       "  </tbody>\n",
       "</table>\n",
       "</div>"
      ],
      "text/plain": [
       "                             Puesto  ISSSTE  Porcentaje\n",
       "0           GOBERNADOR/A DEL ESTADO  760.41    0.025854\n",
       "1          SECRETARIO/A DE ESTADO A  760.41    0.025854\n",
       "2  DIRECTOR/A GENERAL PARAESTATAL A  760.41    0.025854\n",
       "3          SECRETARIO/A DE ESTADO B  760.41    0.025854\n",
       "4          SECRETARIO/A DE ESTADO C  760.41    0.025854"
      ]
     },
     "execution_count": 33,
     "metadata": {},
     "output_type": "execute_result"
    }
   ],
   "source": [
    "issste = pd.DataFrame({'Puesto' : sueldos['PUESTO'], 'ISSSTE' : sueldos['ISSSTE'], 'Porcentaje' : sueldos['ISSSTE'] / sueldos['ISSSTE'].sum()})\n",
    "issste.head()"
   ]
  },
  {
   "cell_type": "code",
   "execution_count": 48,
   "metadata": {},
   "outputs": [
    {
     "data": {
      "text/plain": [
       "29411.26871446277"
      ]
     },
     "execution_count": 48,
     "metadata": {},
     "output_type": "execute_result"
    }
   ],
   "source": [
    "issste['ISSSTE'].sum()"
   ]
  },
  {
   "cell_type": "code",
   "execution_count": 72,
   "metadata": {},
   "outputs": [
    {
     "data": {
      "text/plain": [
       "(array([75, 76, 77, 78]),)"
      ]
     },
     "execution_count": 72,
     "metadata": {},
     "output_type": "execute_result"
    }
   ],
   "source": [
    "np.where(sueldos['SUELDO MENSUAL NETO'] == sueldos['SUELDO MENSUAL NETO'].min())"
   ]
  },
  {
   "cell_type": "code",
   "execution_count": null,
   "metadata": {},
   "outputs": [],
   "source": []
  },
  {
   "cell_type": "code",
   "execution_count": null,
   "metadata": {},
   "outputs": [],
   "source": []
  }
 ],
 "metadata": {
  "kernelspec": {
   "display_name": "Python 3",
   "language": "python",
   "name": "python3"
  },
  "language_info": {
   "codemirror_mode": {
    "name": "ipython",
    "version": 3
   },
   "file_extension": ".py",
   "mimetype": "text/x-python",
   "name": "python",
   "nbconvert_exporter": "python",
   "pygments_lexer": "ipython3",
   "version": "3.6.9"
  }
 },
 "nbformat": 4,
 "nbformat_minor": 4
}
